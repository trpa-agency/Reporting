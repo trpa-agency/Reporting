{
 "cells": [
  {
   "cell_type": "markdown",
   "metadata": {},
   "source": [
    "# Data Engineering Notebook"
   ]
  },
  {
   "cell_type": "markdown",
   "metadata": {},
   "source": [
    "## Setup"
   ]
  },
  {
   "cell_type": "code",
   "execution_count": null,
   "metadata": {},
   "outputs": [],
   "source": [
    "%load_ext autoreload\n",
    "%autoreload 2"
   ]
  },
  {
   "cell_type": "markdown",
   "metadata": {},
   "source": [
    "#### Terminology "
   ]
  },
  {
   "cell_type": "markdown",
   "metadata": {},
   "source": [
    "> Data engineering can consist of ***collection, cleaning, transformation, processing, and automating and monitoring tasks***\n",
    "* Collection - examples include getting data from a rest service as a\n",
    "* Cleaning - categorizing \n",
    "* Transformation - cateogorizing, standardization, \n",
    "* Processing - algorithm, pivot, groupby, merge\n",
    "* Automating - schedule task, Apache Airflow"
   ]
  },
  {
   "cell_type": "markdown",
   "metadata": {},
   "source": [
    "> Planning Jargon\n",
    "* ADU - Accessory Dwelling Unit\n",
    "* Existing Development Right - refers to residential, commercial, or tourist development currently built in the Lake Tahoe Basin"
   ]
  },
  {
   "cell_type": "markdown",
   "metadata": {},
   "source": [
    "#### Packages, Maps, and Reference Data"
   ]
  },
  {
   "cell_type": "code",
   "execution_count": null,
   "metadata": {},
   "outputs": [],
   "source": [
    "import pandas as pd\n",
    "import numpy as np\n",
    "import os\n",
    "from utils import *\n",
    "import getpass\n",
    "from arcgis.features import GeoAccessor, GeoSeriesAccessor\n",
    "from arcgis.mapping import show_styles, display_colormaps\n",
    "from arcgis.gis import GIS"
   ]
  },
  {
   "cell_type": "markdown",
   "metadata": {},
   "source": [
    "***Pandas Options***"
   ]
  },
  {
   "cell_type": "code",
   "execution_count": null,
   "metadata": {},
   "outputs": [],
   "source": [
    "# set data frame display options\n",
    "pd.set_option('display.width', 1000)\n",
    "pd.set_option('display.max_rows', 200)\n",
    "pd.set_option('display.max_columns', 1000)\n",
    "pd.options.display.float_format = '{:,.2f}'.format"
   ]
  },
  {
   "cell_type": "markdown",
   "metadata": {},
   "source": [
    "***Map Setup***"
   ]
  },
  {
   "cell_type": "code",
   "execution_count": null,
   "metadata": {},
   "outputs": [],
   "source": [
    "# Set up the GIS object\n",
    "## portal URL = \"https://maps.trpa.org/portal/home/\"\n",
    "## AGOL URL   = \"https://www.arcgis.com\"\n",
    "gis = GIS(\n",
    "    url=\"https://maps.trpa.org/portal/home/\",\n",
    "    ## enter username above ##\n",
    "    username= input(\"Enter username:\"),\n",
    "    ## enter password above ##\n",
    "    password=getpass.getpass(\"Enter password:\")\n",
    ")"
   ]
  },
  {
   "cell_type": "code",
   "execution_count": null,
   "metadata": {},
   "outputs": [],
   "source": [
    "# make a map object\n",
    "map = gis.map(\"Lake Tahoe\", zoomlevel=10)"
   ]
  },
  {
   "cell_type": "code",
   "execution_count": null,
   "metadata": {},
   "outputs": [],
   "source": [
    "map"
   ]
  },
  {
   "cell_type": "markdown",
   "metadata": {},
   "source": [
    "***Get Reference Data***\n",
    "* https://www.laketahoeinfo.org/WebServices/List\n",
    "* https://maps.trpa.org/server/rest/services/"
   ]
  },
  {
   "cell_type": "code",
   "execution_count": null,
   "metadata": {},
   "outputs": [],
   "source": [
    "## LT Info Data\n",
    "# Verified Development Rights\n",
    "dfDevRight  = pd.read_json(\"https://www.laketahoeinfo.org/WebServices/GetParcelDevelopmentRightsForAccela/JSON/e17aeb86-85e3-4260-83fd-a2b32501c476\")\n",
    "# Deed Restrictions as a DataFrame\n",
    "dfDeed      = pd.read_json(\"https://laketahoeinfo.org/WebServices/GetDeedRestrictedParcels/JSON/e17aeb86-85e3-4260-83fd-a2b32501c476\")\n",
    "# IPES LTinfo as a DataFrame\n",
    "dfIPES      = pd.read_json(\"https://www.laketahoeinfo.org/WebServices/GetParcelIPESScores/JSON/e17aeb86-85e3-4260-83fd-a2b32501c476\")\n",
    "# Development Rights Transacted and Banked as a DataFrame\n",
    "dfDevRights = pd.read_json(\"https://www.laketahoeinfo.org/WebServices/GetTransactedAndBankedDevelopmentRights/JSON/e17aeb86-85e3-4260-83fd-a2b32501c476\")\n",
    "# All Parcels as a DataFrame\n",
    "dfLTParcel  = pd.read_json(\"https://www.laketahoeinfo.org/WebServices/GetAllParcels/JSON/e17aeb86-85e3-4260-83fd-a2b32501c476\")"
   ]
  },
  {
   "cell_type": "code",
   "execution_count": null,
   "metadata": {},
   "outputs": [],
   "source": [
    "## TRPA Data \n",
    "# Parcel Master as a Spatially Enabled Dataframe from a Feature Service\n",
    "sdfParcel     = get_fs_data_spatial(\"https://maps.trpa.org/server/rest/services/Parcels/FeatureServer/0\")"
   ]
  },
  {
   "cell_type": "code",
   "execution_count": null,
   "metadata": {},
   "outputs": [],
   "source": [
    "## TRPA Data \n",
    "# Parcel Master as a Spatially Enabled Dataframe from a Feature Service\n",
    "sdfParcel     = get_fs_data_spatial(\"https://maps.trpa.org/server/rest/services/Parcels/FeatureServer/0\")\n",
    "# TRPA Boundary as a Spatially Enabled Dataframe from a Feature Service\n",
    "sdfBoundary   = get_fs_data_spatial(\"https://maps.trpa.org/server/rest/services/Boundaries/FeatureServer/4\")\n",
    "# Plan Area Boundary as a Spatially Enabled Dataframe from a Feature Service\n",
    "sdfPlanArea   = get_fs_data_spatial(\"https://maps.trpa.org/server/rest/services/Boundaries/FeatureServer/0\")\n",
    "# District Boundary as a Spatially Enabled Dataframe from a Feature Service\n",
    "sdfDistrict   = get_fs_data_spatial(\"https://maps.trpa.org/server/rest/services/Zoning/FeatureServer/0\")\n",
    "# Town Center Boundary as a Spatially Enabled Dataframe from a Feature Service\n",
    "sdfTownCenter = get_fs_data_spatial(\"https://maps.trpa.org/server/rest/services/Boundaries/FeatureServer/1\")"
   ]
  },
  {
   "cell_type": "markdown",
   "metadata": {},
   "source": [
    "***Testing***"
   ]
  },
  {
   "cell_type": "code",
   "execution_count": null,
   "metadata": {},
   "outputs": [],
   "source": [
    "sdfParcel.spatial"
   ]
  },
  {
   "cell_type": "code",
   "execution_count": null,
   "metadata": {},
   "outputs": [],
   "source": [
    "sdfParcel.spatial.full_extent"
   ]
  },
  {
   "cell_type": "code",
   "execution_count": null,
   "metadata": {},
   "outputs": [],
   "source": [
    "sdfParcel.spatial.project(4326)"
   ]
  },
  {
   "cell_type": "code",
   "execution_count": null,
   "metadata": {},
   "outputs": [],
   "source": [
    "sdfParcel.spatial.sr"
   ]
  },
  {
   "cell_type": "code",
   "execution_count": null,
   "metadata": {},
   "outputs": [],
   "source": [
    "sdfParcel.spatial.full_extent"
   ]
  },
  {
   "cell_type": "code",
   "execution_count": null,
   "metadata": {},
   "outputs": [],
   "source": [
    "sdfParcel.spatial.plot(map)"
   ]
  },
  {
   "cell_type": "code",
   "execution_count": null,
   "metadata": {},
   "outputs": [],
   "source": [
    "sdfParcel.spatial.join(sdfBoundary, how='left', op='intersects')"
   ]
  },
  {
   "cell_type": "code",
   "execution_count": null,
   "metadata": {},
   "outputs": [],
   "source": [
    "sdfParcel.spatial.overlay(sdfBoundary, how='intersection')"
   ]
  },
  {
   "cell_type": "markdown",
   "metadata": {},
   "source": [
    "## Permit Data Engineering"
   ]
  },
  {
   "cell_type": "markdown",
   "metadata": {},
   "source": [
    "#### TRPA Permit Data"
   ]
  },
  {
   "cell_type": "markdown",
   "metadata": {},
   "source": [
    "***Get Data***\n",
    "> TRPA permit data is exported from accela nightly then stored in colleciton.sde enterprise geodatabase and published to the trpa server as the web service below"
   ]
  },
  {
   "cell_type": "code",
   "execution_count": null,
   "metadata": {},
   "outputs": [],
   "source": [
    "# web service url\n",
    "permitTable = \"https://maps.trpa.org/server/rest/services/Permit_Records/MapServer/1\"\n",
    "# get permit data as a dataframe\n",
    "dfTRPAPermit = get_fs_data(permitTable)"
   ]
  },
  {
   "cell_type": "code",
   "execution_count": null,
   "metadata": {},
   "outputs": [],
   "source": [
    "## TRPA Permit Data Engineering\n",
    "dfTRPAPermit.info()"
   ]
  },
  {
   "cell_type": "markdown",
   "metadata": {},
   "source": [
    "***Transformation***"
   ]
  },
  {
   "cell_type": "code",
   "execution_count": null,
   "metadata": {},
   "outputs": [],
   "source": [
    "df = dfTRPAPermit\n",
    "\n",
    "# final fields for all permit dataframes\n",
    "fields = ['APN', 'Address', 'Jurisdiction', 'Permit_ID', \n",
    "          'Permit_Type','Permit_Category', 'Permit_Status',  'Description',\n",
    "          'Applied_Date', 'Issued_Date', 'PreGrade_Date', 'Finaled_Date'\n",
    "          ]\n",
    "\n",
    "# # set fields\n",
    "column_mapping = {\n",
    "'Accela_ID' : 'Permit_ID',\n",
    "'Detailed_Description' : 'Description',\n",
    "'Record_Status' : 'Permit_Status',\n",
    "'Accela_CAPType_Name' : 'Permit_Type',\n",
    "'File_Date' : 'Applied_Date'\n",
    "}\n",
    "\n",
    "# rename columns based on dictionary\n",
    "df = renamecolumns(df, column_mapping, False)\n",
    "\n",
    "# add missing fields\n",
    "for field in fields:\n",
    "    # if field not in dataframe add it\n",
    "    if field not in df.columns:\n",
    "        # insert new column\n",
    "        df[field] = None\n",
    "# limit to the final fields\n",
    "df = df[fields]\n",
    "# add jurisdiction value\n",
    "df.Jurisdiction = \"TRPA\"\n",
    "df.info()\n"
   ]
  },
  {
   "cell_type": "markdown",
   "metadata": {},
   "source": [
    "***Processing***"
   ]
  },
  {
   "cell_type": "code",
   "execution_count": null,
   "metadata": {},
   "outputs": [],
   "source": [
    "# print out unique Record_Status values one at a time\n",
    "for description in dfTRPAPermit.Detailed_Description.unique():\n",
    "    print(description)"
   ]
  },
  {
   "cell_type": "code",
   "execution_count": null,
   "metadata": {},
   "outputs": [],
   "source": [
    "# print out unique Record_Status values one at a time\n",
    "for permittype in dfTRPAPermit.Accela_CAPType_Name.unique():\n",
    "    print(permittype)"
   ]
  },
  {
   "cell_type": "code",
   "execution_count": null,
   "metadata": {},
   "outputs": [],
   "source": [
    "# print out unique Record_Status values one at a time\n",
    "for status in dfTRPAPermit.Record_Status.unique():\n",
    "    print(status)"
   ]
  },
  {
   "cell_type": "code",
   "execution_count": null,
   "metadata": {},
   "outputs": [],
   "source": [
    "value_lookup = \"resources\\Value_Lookups.csv\"\n",
    "trpa_reportingcategory_lookup = import_lookup_dictionary(value_lookup,'key','value','Jurisdiction','TRPA','FieldName','Reporting_Category')\n",
    "trpa_permittype_lookup        = import_lookup_dictionary(value_lookup,'key','value','Jurisdiction','TRPA','FieldName','Permit_Type')\n",
    "trpa_permitstatus_lookup      = import_lookup_dictionary(value_lookup,'key','value','Jurisdiction','TRPA','FieldName','Permit_Status')"
   ]
  },
  {
   "cell_type": "code",
   "execution_count": null,
   "metadata": {},
   "outputs": [],
   "source": [
    "# Update fields from lookup dictionaries\n",
    "df['Reporting_Category'] = df['Reporting_Category'].map(trpa_reportingcategory_lookup)\n",
    "df['Permit_Type'] = df['Permit_Type'].map(trpa_permittype_lookup)\n",
    "df['Permit_Status'] = df['Permit_Status'].map(trpa_permitstatus_lookup)"
   ]
  },
  {
   "cell_type": "markdown",
   "metadata": {},
   "source": [
    "#### City of South Lake Tahoe Permit Data"
   ]
  },
  {
   "cell_type": "markdown",
   "metadata": {},
   "source": [
    "***Get Data***"
   ]
  },
  {
   "cell_type": "code",
   "execution_count": null,
   "metadata": {},
   "outputs": [],
   "source": [
    "## City of South Lake Tahoe Permit data was sent over by Ryan Malhoski on 4/9/2021\n",
    "dfCSLTPermit = read_file(\"data\\PermitData_CSLT_040924.csv\")"
   ]
  },
  {
   "cell_type": "code",
   "execution_count": null,
   "metadata": {},
   "outputs": [],
   "source": [
    "dfCSLTPermit.info()"
   ]
  },
  {
   "cell_type": "markdown",
   "metadata": {},
   "source": [
    "***Transformation***"
   ]
  },
  {
   "cell_type": "code",
   "execution_count": null,
   "metadata": {},
   "outputs": [],
   "source": [
    "# drop existing 'Address' field\n",
    "df = dfCSLTPermit.drop('Address', axis=1)\n",
    "\n",
    "# final fields for all permit dataframes\n",
    "fields = ['APN', 'Address', 'Jurisdiction', \n",
    "          'Permit_ID', 'Permit_Type','Permit_Status', 'Description',\n",
    "          'Applied_Date', 'Issued_Date', 'Finaled_Date'\n",
    "          ]\n",
    "\n",
    "# # set fields\n",
    "column_mapping = {\n",
    "            'Parcel ID': 'APN',\n",
    "            'Location Address':'Address',\n",
    "            'Permit Number' : 'Permit_ID',\n",
    "            'Note Text' : 'Description',\n",
    "            'Status' : 'Permit_Status',\n",
    "            'Permit Type' : 'Permit_Type',\n",
    "            'Permit Issue Date' : 'Applied_Date',\n",
    "            'Certificate Issue Date': \"Finaled_Date\"\n",
    "            }\n",
    "\n",
    "# rename columns based on dictionary\n",
    "df = renamecolumns(df, column_mapping,False)\n",
    "\n",
    "# add missing fields\n",
    "for field in fields:\n",
    "    # if field not in dataframe add it\n",
    "    if field not in df.columns:\n",
    "        # insert new column\n",
    "        df[field] = None\n",
    "# limit to the final fields\n",
    "df = df[fields]\n",
    "# add jurisdiction value\n",
    "df.Jurisdiction = \"CSLT\"\n",
    "df.info()"
   ]
  },
  {
   "cell_type": "code",
   "execution_count": null,
   "metadata": {},
   "outputs": [],
   "source": [
    "# APN is a PPNO format in the CSLT data, and also contains EL old naming convetion (-0)\n",
    "# need to format to xxx-xxx-xxx and filter any odd values (e.g. 500 series)\n",
    "# get rid of 100's and 500's series, and format to xxx-xxx-xxx, also remove any that start with strings\n",
    "# strip off trailing spaces\n",
    "df.APN = df.APN.str.replace(' ', '') \n"
   ]
  },
  {
   "cell_type": "markdown",
   "metadata": {},
   "source": [
    "***Processing***"
   ]
  },
  {
   "cell_type": "code",
   "execution_count": null,
   "metadata": {},
   "outputs": [],
   "source": [
    "# potential values for Permit Type\n",
    "# \n",
    "# get unique permit types\n",
    "for permittype in dfCSLTPermit[\"Permit Type\"].unique():\n",
    "    print(permittype)"
   ]
  },
  {
   "cell_type": "code",
   "execution_count": null,
   "metadata": {},
   "outputs": [],
   "source": []
  },
  {
   "cell_type": "markdown",
   "metadata": {},
   "source": [
    "#### El Dorado County Permit Data\n",
    ">  there are two files, one for all TRPA files and one for all files in our geographic area, including TRPA files and EDC files. "
   ]
  },
  {
   "cell_type": "markdown",
   "metadata": {},
   "source": [
    "***Get Data***"
   ]
  },
  {
   "cell_type": "code",
   "execution_count": null,
   "metadata": {},
   "outputs": [],
   "source": [
    "## El Dorado Permit data representing all files in our geographic area\n",
    "## exported by Ken Kasman on 4/1/2021 from their Trakit database\n",
    "dfElDoPermit = read_file(\"data\\PermitData_ElDorado_040124.csv\")\n",
    "dfElDoPermit.info()"
   ]
  },
  {
   "cell_type": "markdown",
   "metadata": {},
   "source": [
    "***Transformation***"
   ]
  },
  {
   "cell_type": "code",
   "execution_count": null,
   "metadata": {},
   "outputs": [],
   "source": [
    "# drop existing 'Address' field\n",
    "df = dfElDoPermit\n",
    "\n",
    "# final fields for all permit dataframes\n",
    "fields = ['APN', 'Address', 'Jurisdiction', \n",
    "          'Permit_ID', 'Permit_Type','Permit_Status','Description',\n",
    "          'Applied_Date', 'Issued_Date', 'Finaled_Date'\n",
    "          ]\n",
    "\n",
    "# # set fields\n",
    "column_mapping = {\n",
    "            'SITE_APN' : 'APN',\n",
    "            'SITE_ADDR':'Address',\n",
    "            'Permit Number' : 'Permit_ID',\n",
    "            'DESCRIPTION' : 'Description',\n",
    "            'STATUS' : 'Permit_Status',\n",
    "            'PERMITTYPE' : 'Permit_Type',\n",
    "            'APPLIED' : 'Applied_Date',\n",
    "            'ISSUED'  : 'Issued_Date',\n",
    "            'FINALED' : \"Finaled_Date\"\n",
    "            }\n",
    "\n",
    "# rename columns based on dictionary\n",
    "df = renamecolumns(df, column_mapping, False)\n",
    "\n",
    "# add missing fields\n",
    "for field in fields:\n",
    "    # if field not in dataframe add it\n",
    "    if field not in df.columns:\n",
    "        # insert new column\n",
    "        df[field] = None\n",
    "# limit to the final fields\n",
    "df = df[fields]\n",
    "# add jurisdiction value\n",
    "df.Jurisdiction = \"EL\"\n",
    "df.info()"
   ]
  },
  {
   "cell_type": "code",
   "execution_count": null,
   "metadata": {},
   "outputs": [],
   "source": [
    "for permittype in dfElDoPermit[\"PERMITTYPE\"].unique():\n",
    "    print(permittype)"
   ]
  },
  {
   "cell_type": "code",
   "execution_count": null,
   "metadata": {},
   "outputs": [],
   "source": [
    "# get lookup dictionary\n",
    "lookupTable = read_file(\"resources/lookup_reporting_category.csv\")\n",
    "lookupTable[\"Reporting Category\"].unique()\n"
   ]
  },
  {
   "cell_type": "markdown",
   "metadata": {},
   "source": [
    "***Processing***"
   ]
  },
  {
   "cell_type": "code",
   "execution_count": null,
   "metadata": {},
   "outputs": [],
   "source": []
  },
  {
   "cell_type": "markdown",
   "metadata": {},
   "source": [
    "#### Placer County Permit Data"
   ]
  },
  {
   "cell_type": "markdown",
   "metadata": {},
   "source": [
    "***Get Data***"
   ]
  },
  {
   "cell_type": "code",
   "execution_count": null,
   "metadata": {},
   "outputs": [],
   "source": [
    "## Placer Permit Data Comes in monthly via email, and gets saved to the folder below.\n",
    "## The code below will merge all the files in the folder into a single file, return a dataframe, and export to csv\n",
    "\n",
    "# folder with the CSV files\n",
    "folder_path = r\"F:\\Research and Analysis\\Local Jurisdiction MOU data collection\\Placer MOU Files\\Placer\"\n",
    "# List to hold the DataFrames\n",
    "dfs = []\n",
    "\n",
    "# Loop through the files in the folder and identify CSV files\n",
    "for file_name in os.listdir(folder_path):\n",
    "    # Construct the full file path\n",
    "    file_path = os.path.join(folder_path, file_name)\n",
    "    # Read the CSV file into a DataFrame and append to the list\n",
    "    df = pd.read_excel(file_path)\n",
    "    # Append the DataFrame to the list\n",
    "    dfs.append(df)\n",
    "# Concatenate all DataFrames into a single DataFrame\n",
    "final_df = pd.concat(dfs, ignore_index=True)\n",
    "# Add today's date at the end of the file name _MMDDYY\n",
    "today = pd.Timestamp.today().strftime(\"%m%d%y\")\n",
    "# Export the final DataFrame to a CSV file\n",
    "final_df.to_csv(\"data\\PermitData_Placer_\" + today + \".csv\", index=False)"
   ]
  },
  {
   "cell_type": "code",
   "execution_count": null,
   "metadata": {},
   "outputs": [],
   "source": [
    "## Placer Permit data explained above. \n",
    "dfPlacerPermit =read_file(\"data\\PermitData_Placer_040924.csv\")"
   ]
  },
  {
   "cell_type": "code",
   "execution_count": null,
   "metadata": {},
   "outputs": [],
   "source": [
    "dfPlacerPermit.info()"
   ]
  },
  {
   "cell_type": "code",
   "execution_count": null,
   "metadata": {},
   "outputs": [],
   "source": [
    "dfPlacerPermit.head()"
   ]
  },
  {
   "cell_type": "markdown",
   "metadata": {},
   "source": [
    "***Transformation***\n",
    "> hyperlink to Placer Accela record can be bulit using SERV_PROD_CODE, B1_PER_ID1, B1_PER_ID2, B1_PER_ID3\n",
    "* https://permits.placer.ca.gov/CitizenAccess/Cap/CapDetail.aspx?Module=TRPA&TabName=TRPA&capID1=16CAP&capID2=00000&capID3=0036O&agencyCode=PLACERCO"
   ]
  },
  {
   "cell_type": "code",
   "execution_count": null,
   "metadata": {},
   "outputs": [],
   "source": [
    "# create lookup dictionary\n",
    "lookupTable = read_file(\"resources/PL_lookup_reporting_category.csv\")\n",
    "lookupTable[\"Reporting Category\"].unique()\n"
   ]
  },
  {
   "cell_type": "markdown",
   "metadata": {},
   "source": [
    "***Processing***"
   ]
  },
  {
   "cell_type": "code",
   "execution_count": null,
   "metadata": {},
   "outputs": [],
   "source": []
  },
  {
   "cell_type": "markdown",
   "metadata": {},
   "source": [
    "#### Merge"
   ]
  },
  {
   "cell_type": "code",
   "execution_count": null,
   "metadata": {},
   "outputs": [],
   "source": [
    "# merege the processed dfs\n",
    "df = pd.concat([dfTRPA, dfCSLT, dfEL, dfPL], axis=0)"
   ]
  },
  {
   "cell_type": "markdown",
   "metadata": {},
   "source": [
    "#### Load"
   ]
  },
  {
   "cell_type": "code",
   "execution_count": null,
   "metadata": {},
   "outputs": [],
   "source": [
    "df.to_csv(\"data\\PermitData.csv\")"
   ]
  },
  {
   "cell_type": "markdown",
   "metadata": {},
   "source": [
    "## Cumulative Accounting Data Engineering"
   ]
  },
  {
   "cell_type": "markdown",
   "metadata": {},
   "source": [
    "#### Existing Development Rights"
   ]
  },
  {
   "cell_type": "markdown",
   "metadata": {},
   "source": [
    "***Get Data***"
   ]
  },
  {
   "cell_type": "code",
   "execution_count": null,
   "metadata": {},
   "outputs": [],
   "source": [
    "## get 2022 development units\n",
    "devhistoryURL = \"https://maps.trpa.org/server/rest/services/Existing_Development/MapServer/2\"\n",
    "parcelUnits12 = get_fs_data_spatial_query(devhistoryURL, \"Year = 2012\")\n",
    "# parcelUnits18 = get_fs_data_spatial_query(devhistoryURL, \"Year = 2018\")\n",
    "# parcelUnits19 = get_fs_data_spatial_query(devhistoryURL, \"Year = 2019\")\n",
    "# parcelUnits20 = get_fs_data_spatial_query(devhistoryURL, \"Year = 2020\")\n",
    "# parcelUnits21 = get_fs_data_spatial_query(devhistoryURL, \"Year = 2021\")\n",
    "parcelUnits22 = get_fs_data_spatial_query(devhistoryURL, \"Year = 2022\")\n",
    "parcelUnits23 = get_fs_data_spatial_query(devhistoryURL, \"Year = 2023\")"
   ]
  },
  {
   "cell_type": "code",
   "execution_count": null,
   "metadata": {},
   "outputs": [],
   "source": [
    "# parcel history\n",
    "url = 'https://maps.trpa.org/server/rest/services/AllParcels/MapServer/3'\n",
    "dfParcelHistory = get_fs_data(url)"
   ]
  },
  {
   "cell_type": "code",
   "execution_count": null,
   "metadata": {},
   "outputs": [],
   "source": [
    "# select all rows where b2023 active = 1 and all other fields = 0\n",
    "dfParcel2023 = dfParcelHistory[(dfParcelHistory['b2023Active'] == 1) & \n",
    "                               (dfParcelHistory['b2022Active'] == 0) & \n",
    "                               (dfParcelHistory['b2021Active'] == 0) & \n",
    "                               (dfParcelHistory['b2020Active'] == 0) & \n",
    "                               (dfParcelHistory['b2019Active'] == 0) & \n",
    "                               (dfParcelHistory['b2018Active'] == 0) & \n",
    "                               (dfParcelHistory['b2012Active'] == 0)]\n",
    "dfParcel2023.info()\n",
    "list2023 = dfParcel2023['APN'].tolist()"
   ]
  },
  {
   "cell_type": "code",
   "execution_count": null,
   "metadata": {},
   "outputs": [],
   "source": [
    "# export to data\\parcelUnits_currentdate.csv with date stamp\n",
    "today = pd.Timestamp.today().strftime(\"%m%d%y\")\n",
    "parcelUnits12.to_csv(\"data\\parcelUnits12_\" + today + \".csv\", index=False)\n",
    "# parcelUnits18.to_csv(\"data\\parcelUnits18_\" + today + \".csv\", index=False)\n",
    "# parcelUnits19.to_csv(\"data\\parcelUnits19_\" + today + \".csv\", index=False)\n",
    "# parcelUnits20.to_csv(\"data\\parcelUnits20_\" + today + \".csv\", index=False)\n",
    "# parcelUnits21.to_csv(\"data\\parcelUnits21_\" + today + \".csv\", index=False)\n",
    "parcelUnits22.to_csv(\"data\\parcelUnits22_\" + today + \".csv\", index=False)\n",
    "parcelUnits23.to_csv(\"data\\parcelUnits23_\" + today + \".csv\", index=False)"
   ]
  },
  {
   "cell_type": "code",
   "execution_count": null,
   "metadata": {},
   "outputs": [],
   "source": [
    "# Commercial data changes\n",
    "dfCFA_Change            = pd.read_excel(\"data/CFA Changes.xlsx\", sheet_name=0, skiprows=1)\n",
    "dfCFA_ChangesLTinfo     = pd.read_excel(\"data/Working CFA Changes from LT Info Verifications.xlsx\")\n",
    "# drop any column with \"Unamed\" in the name\n",
    "dfCFA_ChangesLTinfo     = dfCFA_ChangesLTinfo.loc[:, ~dfCFA_ChangesLTinfo.columns.str.contains('^Unnamed')]\n",
    "\n",
    "# Residential data changes\n",
    "parcelUnits12_Updated   = read_file(\"data/Updated_2012Analysis.csv\")\n",
    "dfRES_Change            = pd.read_excel(\"data/Residential Cleanup.xlsx\")\n",
    "\n",
    "# Tourist data changes\n",
    "dfTAU_Change            = read_excel(\"data\\Commercial and TAU Cumulative Accounting.xlsx\", 0)"
   ]
  },
  {
   "cell_type": "code",
   "execution_count": null,
   "metadata": {},
   "outputs": [],
   "source": [
    "# replace CFA with the updated values\n",
    "parcelUnits12.CFA_SQFT = parcelUnits12_Updated.CFA_SQFT"
   ]
  },
  {
   "cell_type": "code",
   "execution_count": null,
   "metadata": {},
   "outputs": [],
   "source": [
    "parcelUnits12.CommercialFloorArea_SqFt.sum()"
   ]
  },
  {
   "cell_type": "markdown",
   "metadata": {},
   "source": [
    "***Transformation***"
   ]
  },
  {
   "cell_type": "markdown",
   "metadata": {},
   "source": [
    "> Commercial/TAU changes – this file includes the changes tracked for commercial and TAU changes from ~2013 to current. There are projects listed that are completed, and others that have been permitted but not completed. Need to reconcile city-permitted permits from CSLT."
   ]
  },
  {
   "cell_type": "markdown",
   "metadata": {},
   "source": [
    "***Proecssing***"
   ]
  },
  {
   "cell_type": "code",
   "execution_count": null,
   "metadata": {},
   "outputs": [],
   "source": [
    "dfParcelNew"
   ]
  },
  {
   "cell_type": "code",
   "execution_count": null,
   "metadata": {},
   "outputs": [],
   "source": [
    "\n",
    "# compare where b20022 is 1 and b2023 is 0\n",
    "dfParcelOld = dfParcelHistory[(dfParcelHistory['b2022Active'] == 1) & \n",
    "                               (dfParcelHistory['b2023Active'] == 0)]\n",
    "\n",
    "# compare where b20022 is 0 and b2023 is 1\n",
    "dfParcelNew = dfParcelHistory[(dfParcelHistory['b2022Active'] == 0) & \n",
    "                               (dfParcelHistory['b2023Active'] == 1)]"
   ]
  },
  {
   "cell_type": "code",
   "execution_count": null,
   "metadata": {},
   "outputs": [],
   "source": [
    "\n",
    "# merge parcel22 and parcel23 on APN\n",
    "dfParcelMerge = pd.merge(parcelUnits22, parcelUnits23, on='APN', how='outer', indicator=True)\n",
    "# left only and right only\n",
    "dfParcelMissing = dfParcelMerge[dfParcelMerge['_merge'] != 'both']\n",
    "\n",
    "dfParcelMissing.info()\n",
    "\n",
    "# left only\n",
    "dfParcelMissingLeft = dfParcelMerge[dfParcelMerge['_merge'] == 'left_only']\n",
    "dfParcelMissingLeft.info()\n",
    "\n",
    "# sum of Residential_Units_x\n",
    "dfParcelMissingLeft.Residential_Units_x.sum() \n",
    "\n",
    "# right only\n",
    "dfParcelMissingRight = dfParcelMerge[dfParcelMerge['_merge'] == 'right_only']   \n",
    "# dfParcelMissingRight.Residential_Units_y.sum() "
   ]
  },
  {
   "cell_type": "code",
   "execution_count": null,
   "metadata": {},
   "outputs": [],
   "source": [
    "# spatial join of dfParcelMissingLeft and dfParcelMissingRigh\n",
    "sdf = parcelUnits22.spatial.join(parcelUnits23, how='inner', op='intersects')\n",
    "\n"
   ]
  },
  {
   "cell_type": "code",
   "execution_count": null,
   "metadata": {},
   "outputs": [],
   "source": [
    "# arcpy spatial join\n",
    "import arcpy\n",
    "\n",
    "# arcpy spatial join of parcelUnits22 and parcelUnits23\n",
    "df = arcpy.spatial\n"
   ]
  },
  {
   "cell_type": "code",
   "execution_count": null,
   "metadata": {},
   "outputs": [],
   "source": [
    "# filter to rows where APN_left and APN_right !=\n",
    "sdf2 = sdf[sdf.APN_left != sdf.APN_right]\n",
    "sdf2.info()\n"
   ]
  },
  {
   "cell_type": "code",
   "execution_count": null,
   "metadata": {},
   "outputs": [],
   "source": [
    "# spatial overlay of parcelUnits22 and parcelUnits23\n",
    "sdf = parcelUnits22.spatial.overlay(parcelUnits23, how='union')"
   ]
  },
  {
   "cell_type": "markdown",
   "metadata": {},
   "source": [
    "#### Deed Restrictions\n",
    "> Deed restricted unit research needs to be merged with LTinfo housing deed restricitons and parcel unit data from 2022"
   ]
  },
  {
   "cell_type": "markdown",
   "metadata": {},
   "source": [
    "***Get Data***"
   ]
  },
  {
   "cell_type": "code",
   "execution_count": null,
   "metadata": {},
   "outputs": [],
   "source": []
  },
  {
   "cell_type": "code",
   "execution_count": 81,
   "metadata": {},
   "outputs": [],
   "source": [
    "dfDeedUnits  = read_excel(\"data\\Housing_Deed_Restrcitions.xlsx\", 0)\n",
    "dfDeedLTinfo = pd.read_json(\"https://laketahoeinfo.org/WebServices/GetDeedRestrictedParcels/JSON/e17aeb86-85e3-4260-83fd-a2b32501c476\")"
   ]
  },
  {
   "cell_type": "code",
   "execution_count": 82,
   "metadata": {},
   "outputs": [
    {
     "data": {
      "text/html": [
       "<div>\n",
       "<style scoped>\n",
       "    .dataframe tbody tr th:only-of-type {\n",
       "        vertical-align: middle;\n",
       "    }\n",
       "\n",
       "    .dataframe tbody tr th {\n",
       "        vertical-align: top;\n",
       "    }\n",
       "\n",
       "    .dataframe thead th {\n",
       "        text-align: right;\n",
       "    }\n",
       "</style>\n",
       "<table border=\"1\" class=\"dataframe\">\n",
       "  <thead>\n",
       "    <tr style=\"text-align: right;\">\n",
       "      <th></th>\n",
       "      <th>File_Number</th>\n",
       "      <th>APN</th>\n",
       "      <th>Deed_Restriction_Type</th>\n",
       "      <th>Units</th>\n",
       "      <th>Date_Type</th>\n",
       "      <th>LTinfo_Transaction_ID</th>\n",
       "      <th>LTInfo_Deed_Restriction</th>\n",
       "      <th>DR_Desc</th>\n",
       "      <th>Center</th>\n",
       "      <th>Notes</th>\n",
       "      <th>Issued Date</th>\n",
       "      <th>Acknowledged Date</th>\n",
       "      <th>Pre-Grade Date</th>\n",
       "      <th>Finaled Date</th>\n",
       "    </tr>\n",
       "  </thead>\n",
       "  <tbody>\n",
       "    <tr>\n",
       "      <th>0</th>\n",
       "      <td>ERSP2022-1998</td>\n",
       "      <td>023-151-030</td>\n",
       "      <td>Achievable</td>\n",
       "      <td>1</td>\n",
       "      <td>Permitted, Not Constructed</td>\n",
       "      <td>TRPA-ALLOC-2329</td>\n",
       "      <td>NaN</td>\n",
       "      <td>NaN</td>\n",
       "      <td>Non-Center</td>\n",
       "      <td>NaN</td>\n",
       "      <td>2023-10-09</td>\n",
       "      <td>NaT</td>\n",
       "      <td>NaT</td>\n",
       "      <td>NaT</td>\n",
       "    </tr>\n",
       "    <tr>\n",
       "      <th>1</th>\n",
       "      <td>20021919STD</td>\n",
       "      <td>023-162-017</td>\n",
       "      <td>Affordable</td>\n",
       "      <td>18</td>\n",
       "      <td>Constructed</td>\n",
       "      <td>NaN</td>\n",
       "      <td>DOC-2005-0023565-00</td>\n",
       "      <td>The eighteen (18) residential units on this pr...</td>\n",
       "      <td>OLD</td>\n",
       "      <td>Sky Forest Apartments</td>\n",
       "      <td>2003-04-23</td>\n",
       "      <td>2005-04-14</td>\n",
       "      <td>2005-04-14</td>\n",
       "      <td>2005-04-14</td>\n",
       "    </tr>\n",
       "    <tr>\n",
       "      <th>2</th>\n",
       "      <td>ERSP2020-2084</td>\n",
       "      <td>023-231-003</td>\n",
       "      <td>Achievable</td>\n",
       "      <td>70</td>\n",
       "      <td>Reserved, Application in review</td>\n",
       "      <td>TRPA-ALLOC-1333</td>\n",
       "      <td>NaN</td>\n",
       "      <td>NaN</td>\n",
       "      <td>Center</td>\n",
       "      <td>Crossings at the \"Y\" South Lake Tahoe</td>\n",
       "      <td>NaT</td>\n",
       "      <td>NaT</td>\n",
       "      <td>NaT</td>\n",
       "      <td>NaT</td>\n",
       "    </tr>\n",
       "    <tr>\n",
       "      <th>3</th>\n",
       "      <td>19980083STD</td>\n",
       "      <td>023-393-031</td>\n",
       "      <td>Affordable</td>\n",
       "      <td>45</td>\n",
       "      <td>Constructed</td>\n",
       "      <td>NaN</td>\n",
       "      <td>98-0009502-00</td>\n",
       "      <td>45 units on property must be occupied by perso...</td>\n",
       "      <td>OLD</td>\n",
       "      <td>Tahoe Senior Plaza</td>\n",
       "      <td>1998-04-27</td>\n",
       "      <td>1998-06-08</td>\n",
       "      <td>1998-06-11</td>\n",
       "      <td>1999-10-15</td>\n",
       "    </tr>\n",
       "    <tr>\n",
       "      <th>4</th>\n",
       "      <td>CORR2012-0143</td>\n",
       "      <td>023-632-005</td>\n",
       "      <td>Affordable</td>\n",
       "      <td>1</td>\n",
       "      <td>Constructed</td>\n",
       "      <td>NaN</td>\n",
       "      <td>DOC-2011-0058156-00</td>\n",
       "      <td>City of South Lake Tahoe deed restriction rest...</td>\n",
       "      <td>OLD</td>\n",
       "      <td>800 Taylor Way</td>\n",
       "      <td>2012-02-15</td>\n",
       "      <td>2012-03-22</td>\n",
       "      <td>2012-03-22</td>\n",
       "      <td>2012-03-22</td>\n",
       "    </tr>\n",
       "    <tr>\n",
       "      <th>5</th>\n",
       "      <td>ERSP2022-2018</td>\n",
       "      <td>023-655-012</td>\n",
       "      <td>Achievable</td>\n",
       "      <td>1</td>\n",
       "      <td>Permitted, Not Constructed</td>\n",
       "      <td>TRPA-ALLOC-2119</td>\n",
       "      <td>2023-0008087</td>\n",
       "      <td>The accessory dwelling unit (ADU) on APN 023-6...</td>\n",
       "      <td>Non-Center</td>\n",
       "      <td>NaN</td>\n",
       "      <td>2023-04-19</td>\n",
       "      <td>NaT</td>\n",
       "      <td>NaT</td>\n",
       "      <td>NaT</td>\n",
       "    </tr>\n",
       "    <tr>\n",
       "      <th>6</th>\n",
       "      <td>ERSP2022-1992</td>\n",
       "      <td>025-041-023</td>\n",
       "      <td>Affordable</td>\n",
       "      <td>19</td>\n",
       "      <td>Permitted, Not Constructed</td>\n",
       "      <td>TRPA-ALLOC-1871</td>\n",
       "      <td>2023-0013218</td>\n",
       "      <td>To partially satisfy TRPA's March 22, 2023, co...</td>\n",
       "      <td>Local Jurisdiction Pool</td>\n",
       "      <td>LTCC Dorms</td>\n",
       "      <td>2023-03-22</td>\n",
       "      <td>2023-05-17</td>\n",
       "      <td>2023-05-18</td>\n",
       "      <td>NaT</td>\n",
       "    </tr>\n",
       "    <tr>\n",
       "      <th>7</th>\n",
       "      <td>NaN</td>\n",
       "      <td>025-041-023</td>\n",
       "      <td>Affordable</td>\n",
       "      <td>21</td>\n",
       "      <td>Reserved, Application not submitted</td>\n",
       "      <td>TRPA-ALLOC-1872</td>\n",
       "      <td>NaN</td>\n",
       "      <td>NaN</td>\n",
       "      <td>Non-Center</td>\n",
       "      <td>LTCC Dorms, Phase 2</td>\n",
       "      <td>NaT</td>\n",
       "      <td>NaT</td>\n",
       "      <td>NaT</td>\n",
       "      <td>NaT</td>\n",
       "    </tr>\n",
       "    <tr>\n",
       "      <th>8</th>\n",
       "      <td>ERSP2022-1992</td>\n",
       "      <td>025-041-023</td>\n",
       "      <td>Affordable</td>\n",
       "      <td>1</td>\n",
       "      <td>Permitted, Not Constructed</td>\n",
       "      <td>TRPA-ALLOC-2274</td>\n",
       "      <td>2023-0013218</td>\n",
       "      <td>To partially satisfy TRPA's March 22, 2023, co...</td>\n",
       "      <td>Local Jurisdiction Pool</td>\n",
       "      <td>NaN</td>\n",
       "      <td>2023-03-22</td>\n",
       "      <td>2023-05-17</td>\n",
       "      <td>2023-05-18</td>\n",
       "      <td>NaT</td>\n",
       "    </tr>\n",
       "    <tr>\n",
       "      <th>9</th>\n",
       "      <td>19911592STD</td>\n",
       "      <td>025-241-012</td>\n",
       "      <td>Affordable</td>\n",
       "      <td>28</td>\n",
       "      <td>Constructed</td>\n",
       "      <td>NaN</td>\n",
       "      <td>Doc# 014391</td>\n",
       "      <td>Deed restriction documenting a 28 unit afforda...</td>\n",
       "      <td>OLD</td>\n",
       "      <td>Tahoe Pines Apartments</td>\n",
       "      <td>1994-05-04</td>\n",
       "      <td>1994-05-12</td>\n",
       "      <td>1994-05-12</td>\n",
       "      <td>2012-08-16</td>\n",
       "    </tr>\n",
       "    <tr>\n",
       "      <th>10</th>\n",
       "      <td>CORR2010-0553</td>\n",
       "      <td>025-393-025</td>\n",
       "      <td>Affordable</td>\n",
       "      <td>1</td>\n",
       "      <td>Constructed</td>\n",
       "      <td>NaN</td>\n",
       "      <td>DOC-2009-0047796-00</td>\n",
       "      <td>City of South Lake Tahoe deed restriction. One...</td>\n",
       "      <td>OLD</td>\n",
       "      <td>226 Becka Drive.</td>\n",
       "      <td>2010-08-26</td>\n",
       "      <td>2010-09-30</td>\n",
       "      <td>2010-09-30</td>\n",
       "      <td>2010-09-30</td>\n",
       "    </tr>\n",
       "    <tr>\n",
       "      <th>11</th>\n",
       "      <td>20061455STD</td>\n",
       "      <td>025-510-002</td>\n",
       "      <td>Affordable</td>\n",
       "      <td>32</td>\n",
       "      <td>Constructed</td>\n",
       "      <td>NaN</td>\n",
       "      <td>DOC-2008-0019379-00</td>\n",
       "      <td>32 of the units are senior (62 years in age or...</td>\n",
       "      <td>OLD</td>\n",
       "      <td>Kelly Ridge Apartments</td>\n",
       "      <td>2008-02-27</td>\n",
       "      <td>2008-05-21</td>\n",
       "      <td>2008-05-29</td>\n",
       "      <td>2013-09-04</td>\n",
       "    </tr>\n",
       "    <tr>\n",
       "      <th>12</th>\n",
       "      <td>20061455STD</td>\n",
       "      <td>025-510-002</td>\n",
       "      <td>Moderate</td>\n",
       "      <td>1</td>\n",
       "      <td>Constructed</td>\n",
       "      <td>NaN</td>\n",
       "      <td>DOC-2008-0019379-00</td>\n",
       "      <td>32 of the units are senior (62 years in age or...</td>\n",
       "      <td>OLD</td>\n",
       "      <td>Kelly Ridge Apartments</td>\n",
       "      <td>2008-02-27</td>\n",
       "      <td>2008-05-21</td>\n",
       "      <td>2008-05-29</td>\n",
       "      <td>2013-09-04</td>\n",
       "    </tr>\n",
       "    <tr>\n",
       "      <th>13</th>\n",
       "      <td>21030151</td>\n",
       "      <td>026-082-013</td>\n",
       "      <td>Moderate</td>\n",
       "      <td>1</td>\n",
       "      <td>Constructed</td>\n",
       "      <td>TRPA-ALLOC-1259</td>\n",
       "      <td>NaN</td>\n",
       "      <td>NaN</td>\n",
       "      <td>Non-Center</td>\n",
       "      <td>NaN</td>\n",
       "      <td>2022-02-14</td>\n",
       "      <td>2022-02-14</td>\n",
       "      <td>2022-02-14</td>\n",
       "      <td>2023-03-16</td>\n",
       "    </tr>\n",
       "    <tr>\n",
       "      <th>14</th>\n",
       "      <td>21030150</td>\n",
       "      <td>026-082-014</td>\n",
       "      <td>Moderate</td>\n",
       "      <td>1</td>\n",
       "      <td>Constructed</td>\n",
       "      <td>TRPA-ALLOC-1260</td>\n",
       "      <td>NaN</td>\n",
       "      <td>NaN</td>\n",
       "      <td>Non-Center</td>\n",
       "      <td>NaN</td>\n",
       "      <td>2022-02-14</td>\n",
       "      <td>2022-02-14</td>\n",
       "      <td>2022-02-14</td>\n",
       "      <td>2023-03-02</td>\n",
       "    </tr>\n",
       "    <tr>\n",
       "      <th>15</th>\n",
       "      <td>21040011</td>\n",
       "      <td>026-082-015</td>\n",
       "      <td>Moderate</td>\n",
       "      <td>1</td>\n",
       "      <td>Constructed</td>\n",
       "      <td>TRPA-ALLOC-1261</td>\n",
       "      <td>NaN</td>\n",
       "      <td>NaN</td>\n",
       "      <td>Non-Center</td>\n",
       "      <td>NaN</td>\n",
       "      <td>2022-02-14</td>\n",
       "      <td>2022-02-14</td>\n",
       "      <td>2022-02-14</td>\n",
       "      <td>2023-03-02</td>\n",
       "    </tr>\n",
       "    <tr>\n",
       "      <th>16</th>\n",
       "      <td>ERSP2022-0257</td>\n",
       "      <td>026-094-026</td>\n",
       "      <td>Achievable</td>\n",
       "      <td>1</td>\n",
       "      <td>Constructed</td>\n",
       "      <td>TRPA-ALLOC-1887</td>\n",
       "      <td>2022-0017686</td>\n",
       "      <td>One residential unit on APN 026-094-026 shall ...</td>\n",
       "      <td>Non-Center</td>\n",
       "      <td>NaN</td>\n",
       "      <td>2022-04-27</td>\n",
       "      <td>2022-04-27</td>\n",
       "      <td>2022-07-19</td>\n",
       "      <td>2022-07-19</td>\n",
       "    </tr>\n",
       "    <tr>\n",
       "      <th>17</th>\n",
       "      <td>ERSP2022-1314</td>\n",
       "      <td>026-152-002</td>\n",
       "      <td>Affordable</td>\n",
       "      <td>1</td>\n",
       "      <td>Permitted, Not Constructed</td>\n",
       "      <td>TRPA-ALLOC-2345</td>\n",
       "      <td>NaN</td>\n",
       "      <td>NaN</td>\n",
       "      <td>Non-Center</td>\n",
       "      <td>NaN</td>\n",
       "      <td>2022-09-22</td>\n",
       "      <td>NaT</td>\n",
       "      <td>NaT</td>\n",
       "      <td>NaT</td>\n",
       "    </tr>\n",
       "    <tr>\n",
       "      <th>18</th>\n",
       "      <td>CORR2008-0313</td>\n",
       "      <td>026-262-010</td>\n",
       "      <td>Affordable</td>\n",
       "      <td>1</td>\n",
       "      <td>Constructed</td>\n",
       "      <td>NaN</td>\n",
       "      <td>2009-0041847-00</td>\n",
       "      <td>The legalized rental unit may only be utilized...</td>\n",
       "      <td>OLD</td>\n",
       "      <td>961 Tulare Ave.</td>\n",
       "      <td>2010-09-21</td>\n",
       "      <td>2011-02-02</td>\n",
       "      <td>2011-02-02</td>\n",
       "      <td>2011-02-02</td>\n",
       "    </tr>\n",
       "    <tr>\n",
       "      <th>19</th>\n",
       "      <td>ERSP2009-0479</td>\n",
       "      <td>027-323-019</td>\n",
       "      <td>Affordable</td>\n",
       "      <td>47</td>\n",
       "      <td>Constructed</td>\n",
       "      <td>NaN</td>\n",
       "      <td>DOC-2013-0011131-00</td>\n",
       "      <td>Deed restriction on property requiring that 55...</td>\n",
       "      <td>OLD</td>\n",
       "      <td>The Aspens</td>\n",
       "      <td>2010-01-04</td>\n",
       "      <td>2013-04-02</td>\n",
       "      <td>2013-05-02</td>\n",
       "      <td>2014-09-29</td>\n",
       "    </tr>\n",
       "    <tr>\n",
       "      <th>20</th>\n",
       "      <td>ERSP2009-0479</td>\n",
       "      <td>027-323-019</td>\n",
       "      <td>Moderate</td>\n",
       "      <td>1</td>\n",
       "      <td>Constructed</td>\n",
       "      <td>NaN</td>\n",
       "      <td>DOC-2013-0011131-00</td>\n",
       "      <td>Deed restriction on property requiring that 55...</td>\n",
       "      <td>OLD</td>\n",
       "      <td>The Aspens</td>\n",
       "      <td>2010-01-04</td>\n",
       "      <td>2013-04-02</td>\n",
       "      <td>2013-05-02</td>\n",
       "      <td>2014-09-29</td>\n",
       "    </tr>\n",
       "    <tr>\n",
       "      <th>21</th>\n",
       "      <td>NaN</td>\n",
       "      <td>027-323-019</td>\n",
       "      <td>Affordable</td>\n",
       "      <td>8</td>\n",
       "      <td>Reserved, Application not submitted</td>\n",
       "      <td>NaN</td>\n",
       "      <td>DOC-2013-0011131-00</td>\n",
       "      <td>Deed restriction on property requiring that 55...</td>\n",
       "      <td>OLD</td>\n",
       "      <td>The Aspens</td>\n",
       "      <td>NaT</td>\n",
       "      <td>NaT</td>\n",
       "      <td>NaT</td>\n",
       "      <td>NaT</td>\n",
       "    </tr>\n",
       "    <tr>\n",
       "      <th>22</th>\n",
       "      <td>20041142MOU</td>\n",
       "      <td>031-094-024</td>\n",
       "      <td>Affordable</td>\n",
       "      <td>1</td>\n",
       "      <td>Constructed</td>\n",
       "      <td>NaN</td>\n",
       "      <td>DOC-2004-0056385-00</td>\n",
       "      <td>One unit on the property known as the \"downsta...</td>\n",
       "      <td>OLD</td>\n",
       "      <td>1064 Marjorie</td>\n",
       "      <td>2004-07-07</td>\n",
       "      <td>2004-07-14</td>\n",
       "      <td>2004-07-14</td>\n",
       "      <td>2004-07-14</td>\n",
       "    </tr>\n",
       "    <tr>\n",
       "      <th>23</th>\n",
       "      <td>ERSP2022-1407</td>\n",
       "      <td>031-172-011</td>\n",
       "      <td>Achievable</td>\n",
       "      <td>1</td>\n",
       "      <td>Permitted, Not Constructed</td>\n",
       "      <td>TRPA-ALLOC-2026</td>\n",
       "      <td>2022-0040687</td>\n",
       "      <td>One (1) residential unit on APN 031-172-011 sh...</td>\n",
       "      <td>Non-Center</td>\n",
       "      <td>NaN</td>\n",
       "      <td>2022-10-05</td>\n",
       "      <td>NaT</td>\n",
       "      <td>NaT</td>\n",
       "      <td>NaT</td>\n",
       "    </tr>\n",
       "    <tr>\n",
       "      <th>24</th>\n",
       "      <td>ERSP2020-1763</td>\n",
       "      <td>031-290-012</td>\n",
       "      <td>Achievable</td>\n",
       "      <td>20</td>\n",
       "      <td>Permitted, Not Constructed</td>\n",
       "      <td>TRPA-ALLOC-1334</td>\n",
       "      <td>NaN</td>\n",
       "      <td>NaN</td>\n",
       "      <td>Non-Center</td>\n",
       "      <td>Silver Dollar</td>\n",
       "      <td>2021-09-15</td>\n",
       "      <td>NaT</td>\n",
       "      <td>NaT</td>\n",
       "      <td>NaT</td>\n",
       "    </tr>\n",
       "    <tr>\n",
       "      <th>25</th>\n",
       "      <td>MOU#18-334</td>\n",
       "      <td>032-201-017</td>\n",
       "      <td>Affordable</td>\n",
       "      <td>1</td>\n",
       "      <td>Constructed</td>\n",
       "      <td>TRPA-ALLOC-847</td>\n",
       "      <td>2019-0012992-00</td>\n",
       "      <td>Declarants received approval to convert an exi...</td>\n",
       "      <td>Non-Center</td>\n",
       "      <td>NaN</td>\n",
       "      <td>2019-04-26</td>\n",
       "      <td>2019-04-26</td>\n",
       "      <td>2019-04-26</td>\n",
       "      <td>2019-04-26</td>\n",
       "    </tr>\n",
       "    <tr>\n",
       "      <th>26</th>\n",
       "      <td>20040020STD</td>\n",
       "      <td>032-211-019</td>\n",
       "      <td>Affordable</td>\n",
       "      <td>26</td>\n",
       "      <td>Constructed</td>\n",
       "      <td>NaN</td>\n",
       "      <td>2005-0048498</td>\n",
       "      <td>twenty-six affordable residential units as aff...</td>\n",
       "      <td>OLD</td>\n",
       "      <td>Evergreen Apartments</td>\n",
       "      <td>2004-06-23</td>\n",
       "      <td>2005-06-21</td>\n",
       "      <td>2005-06-21</td>\n",
       "      <td>2006-07-20</td>\n",
       "    </tr>\n",
       "    <tr>\n",
       "      <th>27</th>\n",
       "      <td>19120143</td>\n",
       "      <td>032-221-002</td>\n",
       "      <td>Moderate</td>\n",
       "      <td>2</td>\n",
       "      <td>Constructed</td>\n",
       "      <td>TRPA-ALLOC-1328</td>\n",
       "      <td>2020-0065712</td>\n",
       "      <td>Two residential units on this property are per...</td>\n",
       "      <td>Non-Center</td>\n",
       "      <td>NaN</td>\n",
       "      <td>2020-09-07</td>\n",
       "      <td>2020-09-08</td>\n",
       "      <td>2020-09-08</td>\n",
       "      <td>2020-09-08</td>\n",
       "    </tr>\n",
       "    <tr>\n",
       "      <th>28</th>\n",
       "      <td>ERSP2020-1999</td>\n",
       "      <td>032-291-028</td>\n",
       "      <td>Affordable</td>\n",
       "      <td>119</td>\n",
       "      <td>Permitted, Not Constructed</td>\n",
       "      <td>TRPA-ALLOC-1330</td>\n",
       "      <td>NaN</td>\n",
       "      <td>NaN</td>\n",
       "      <td>Non-Center</td>\n",
       "      <td>Sugar Pine West, Phase 3 Multiple revisions</td>\n",
       "      <td>2021-01-27</td>\n",
       "      <td>2022-09-02</td>\n",
       "      <td>NaT</td>\n",
       "      <td>NaT</td>\n",
       "    </tr>\n",
       "    <tr>\n",
       "      <th>29</th>\n",
       "      <td>ERSP2020-1999</td>\n",
       "      <td>032-291-028</td>\n",
       "      <td>Affordable</td>\n",
       "      <td>59</td>\n",
       "      <td>Permitted, Not Constructed</td>\n",
       "      <td>TRPA-ALLOC-1330</td>\n",
       "      <td>2023-0022310</td>\n",
       "      <td>Fifty-nine (59) residential units on APN 032-2...</td>\n",
       "      <td>Non-Center</td>\n",
       "      <td>Sugar Pine West, Phase 1; Multiple revisions</td>\n",
       "      <td>2021-01-27</td>\n",
       "      <td>2022-09-02</td>\n",
       "      <td>2022-09-07</td>\n",
       "      <td>NaT</td>\n",
       "    </tr>\n",
       "    <tr>\n",
       "      <th>30</th>\n",
       "      <td>ERSP2020-1999</td>\n",
       "      <td>032-291-028</td>\n",
       "      <td>Affordable</td>\n",
       "      <td>30</td>\n",
       "      <td>Permitted, Not Constructed</td>\n",
       "      <td>TRPA-ALLOC-1331</td>\n",
       "      <td>2022-0035486</td>\n",
       "      <td>Thirty (30) residential units  on the Property...</td>\n",
       "      <td>Center</td>\n",
       "      <td>Sugar Pine West, Phase 2</td>\n",
       "      <td>2021-01-27</td>\n",
       "      <td>2022-09-02</td>\n",
       "      <td>2022-09-07</td>\n",
       "      <td>NaT</td>\n",
       "    </tr>\n",
       "    <tr>\n",
       "      <th>31</th>\n",
       "      <td>ERSP2020-1998</td>\n",
       "      <td>032-291-031</td>\n",
       "      <td>Affordable</td>\n",
       "      <td>37</td>\n",
       "      <td>Permitted, Not Constructed</td>\n",
       "      <td>TRPA-ALLOC-1335</td>\n",
       "      <td>2022-0035487</td>\n",
       "      <td>Thirty-seven (37) residential units on APN 032...</td>\n",
       "      <td>Center</td>\n",
       "      <td>Sugar Pine East</td>\n",
       "      <td>2021-01-27</td>\n",
       "      <td>2022-09-02</td>\n",
       "      <td>2022-09-09</td>\n",
       "      <td>NaT</td>\n",
       "    </tr>\n",
       "    <tr>\n",
       "      <th>32</th>\n",
       "      <td>ERSP2023-1727</td>\n",
       "      <td>090-115-037</td>\n",
       "      <td>Affordable</td>\n",
       "      <td>1</td>\n",
       "      <td>Permitted, Not Constructed</td>\n",
       "      <td>TRPA-ALLOC-2357</td>\n",
       "      <td>NaN</td>\n",
       "      <td>NaN</td>\n",
       "      <td>Non-Center</td>\n",
       "      <td>NaN</td>\n",
       "      <td>2024-02-28</td>\n",
       "      <td>NaT</td>\n",
       "      <td>NaT</td>\n",
       "      <td>NaT</td>\n",
       "    </tr>\n",
       "    <tr>\n",
       "      <th>33</th>\n",
       "      <td>CEPP2008-0164</td>\n",
       "      <td>090-122-039</td>\n",
       "      <td>Affordable</td>\n",
       "      <td>5</td>\n",
       "      <td>Constructed</td>\n",
       "      <td>NaN</td>\n",
       "      <td>2010-0080866-00</td>\n",
       "      <td>Approval granted for construction of 5 residen...</td>\n",
       "      <td>OLD</td>\n",
       "      <td>Domus Housing Project</td>\n",
       "      <td>2009-09-09</td>\n",
       "      <td>2010-10-21</td>\n",
       "      <td>2010-09-10</td>\n",
       "      <td>2013-07-05</td>\n",
       "    </tr>\n",
       "    <tr>\n",
       "      <th>34</th>\n",
       "      <td>CEPP2008-0163</td>\n",
       "      <td>090-126-026</td>\n",
       "      <td>Affordable</td>\n",
       "      <td>12</td>\n",
       "      <td>Constructed</td>\n",
       "      <td>NaN</td>\n",
       "      <td>DOC-2010-0080867-00</td>\n",
       "      <td>Deed restriction recorded for this property re...</td>\n",
       "      <td>OLD</td>\n",
       "      <td>Kings Beach Housing Now</td>\n",
       "      <td>2010-01-28</td>\n",
       "      <td>2010-09-07</td>\n",
       "      <td>2011-05-02</td>\n",
       "      <td>2012-11-19</td>\n",
       "    </tr>\n",
       "    <tr>\n",
       "      <th>35</th>\n",
       "      <td>ERSP2022-1196</td>\n",
       "      <td>090-133-021</td>\n",
       "      <td>Achievable</td>\n",
       "      <td>74</td>\n",
       "      <td>Reserved, Application in review</td>\n",
       "      <td>TRPA-ALLOC-2279</td>\n",
       "      <td>NaN</td>\n",
       "      <td>NaN</td>\n",
       "      <td>Center</td>\n",
       "      <td>39 Degrees North</td>\n",
       "      <td>NaT</td>\n",
       "      <td>NaT</td>\n",
       "      <td>NaT</td>\n",
       "      <td>NaT</td>\n",
       "    </tr>\n",
       "    <tr>\n",
       "      <th>36</th>\n",
       "      <td>ERSP2021-1873</td>\n",
       "      <td>090-142-001</td>\n",
       "      <td>Achievable</td>\n",
       "      <td>1</td>\n",
       "      <td>Reserved, Application in review</td>\n",
       "      <td>TRPA-ALLOC-2344</td>\n",
       "      <td>NaN</td>\n",
       "      <td>NaN</td>\n",
       "      <td>Center</td>\n",
       "      <td>NaN</td>\n",
       "      <td>NaT</td>\n",
       "      <td>NaT</td>\n",
       "      <td>NaT</td>\n",
       "      <td>NaT</td>\n",
       "    </tr>\n",
       "    <tr>\n",
       "      <th>37</th>\n",
       "      <td>ERSP2009-0687</td>\n",
       "      <td>090-182-024</td>\n",
       "      <td>Affordable</td>\n",
       "      <td>2</td>\n",
       "      <td>Constructed</td>\n",
       "      <td>NaN</td>\n",
       "      <td>DOC- 2010-0080865-00</td>\n",
       "      <td>Not less than two (2) of the residential units...</td>\n",
       "      <td>OLD</td>\n",
       "      <td>Domus Housing Project</td>\n",
       "      <td>2009-07-27</td>\n",
       "      <td>2010-09-07</td>\n",
       "      <td>2011-05-02</td>\n",
       "      <td>2013-07-05</td>\n",
       "    </tr>\n",
       "    <tr>\n",
       "      <th>38</th>\n",
       "      <td>CEPP2008-0161</td>\n",
       "      <td>090-222-050</td>\n",
       "      <td>Affordable</td>\n",
       "      <td>33</td>\n",
       "      <td>Constructed</td>\n",
       "      <td>NaN</td>\n",
       "      <td>DOC-2010-0080868-00</td>\n",
       "      <td>Deed restriction recorded for the parcel. At l...</td>\n",
       "      <td>OLD</td>\n",
       "      <td>Kings Beach Housing Now</td>\n",
       "      <td>2010-01-27</td>\n",
       "      <td>2010-10-26</td>\n",
       "      <td>2011-05-02</td>\n",
       "      <td>2014-07-30</td>\n",
       "    </tr>\n",
       "    <tr>\n",
       "      <th>39</th>\n",
       "      <td>ERSP2023-1017</td>\n",
       "      <td>092-170-033</td>\n",
       "      <td>Achievable</td>\n",
       "      <td>1</td>\n",
       "      <td>Permitted, Not Constructed</td>\n",
       "      <td>TRPA-ALLOC-2372</td>\n",
       "      <td>2024-0009142-00</td>\n",
       "      <td>APN 092-170-033 has received approval from TRP...</td>\n",
       "      <td>Non-Center</td>\n",
       "      <td>NaN</td>\n",
       "      <td>2024-01-25</td>\n",
       "      <td>2024-02-24</td>\n",
       "      <td>NaT</td>\n",
       "      <td>NaT</td>\n",
       "    </tr>\n",
       "    <tr>\n",
       "      <th>40</th>\n",
       "      <td>ERSP2021-0677</td>\n",
       "      <td>092-190-034</td>\n",
       "      <td>Achievable</td>\n",
       "      <td>1</td>\n",
       "      <td>Reserved, Application in review</td>\n",
       "      <td>TRPA-ALLOC-1722</td>\n",
       "      <td>NaN</td>\n",
       "      <td>NaN</td>\n",
       "      <td>Non-Center</td>\n",
       "      <td>NaN</td>\n",
       "      <td>NaT</td>\n",
       "      <td>NaT</td>\n",
       "      <td>NaT</td>\n",
       "      <td>NaT</td>\n",
       "    </tr>\n",
       "    <tr>\n",
       "      <th>41</th>\n",
       "      <td>ERSP2021-1484</td>\n",
       "      <td>093-130-026</td>\n",
       "      <td>Achievable</td>\n",
       "      <td>24</td>\n",
       "      <td>Reserved, Application in review</td>\n",
       "      <td>TRPA-ALLOC-2346</td>\n",
       "      <td>NaN</td>\n",
       "      <td>NaN</td>\n",
       "      <td>Non-Center</td>\n",
       "      <td>Alpine View at Dollar Point</td>\n",
       "      <td>NaT</td>\n",
       "      <td>NaT</td>\n",
       "      <td>NaT</td>\n",
       "      <td>NaT</td>\n",
       "    </tr>\n",
       "    <tr>\n",
       "      <th>42</th>\n",
       "      <td>ERSP2023-0458</td>\n",
       "      <td>093-160-079</td>\n",
       "      <td>Achievable</td>\n",
       "      <td>60</td>\n",
       "      <td>Reserved, Application in review</td>\n",
       "      <td>TRPA-ALLOC-2280</td>\n",
       "      <td>NaN</td>\n",
       "      <td>NaN</td>\n",
       "      <td>Non-Center</td>\n",
       "      <td>Dollar Creek Crossing</td>\n",
       "      <td>NaT</td>\n",
       "      <td>NaT</td>\n",
       "      <td>NaT</td>\n",
       "      <td>NaT</td>\n",
       "    </tr>\n",
       "    <tr>\n",
       "      <th>43</th>\n",
       "      <td>ERSP2023-0458</td>\n",
       "      <td>093-160-079</td>\n",
       "      <td>Affordable</td>\n",
       "      <td>80</td>\n",
       "      <td>Reserved, Application in review</td>\n",
       "      <td>TRPA-ALLOC-2326</td>\n",
       "      <td>NaN</td>\n",
       "      <td>NaN</td>\n",
       "      <td>Non-Center</td>\n",
       "      <td>Dollar Creek Crossing</td>\n",
       "      <td>NaT</td>\n",
       "      <td>NaT</td>\n",
       "      <td>NaT</td>\n",
       "      <td>NaT</td>\n",
       "    </tr>\n",
       "    <tr>\n",
       "      <th>44</th>\n",
       "      <td>ERSP2023-0009</td>\n",
       "      <td>094-052-011</td>\n",
       "      <td>Achievable</td>\n",
       "      <td>1</td>\n",
       "      <td>Permitted, Not Constructed</td>\n",
       "      <td>TRPA-ALLOC-2328</td>\n",
       "      <td>NaN</td>\n",
       "      <td>NaN</td>\n",
       "      <td>Non-Center</td>\n",
       "      <td>NaN</td>\n",
       "      <td>2023-10-27</td>\n",
       "      <td>NaT</td>\n",
       "      <td>NaT</td>\n",
       "      <td>NaT</td>\n",
       "    </tr>\n",
       "    <tr>\n",
       "      <th>45</th>\n",
       "      <td>ERSP2019-1196</td>\n",
       "      <td>094-070-006</td>\n",
       "      <td>Achievable</td>\n",
       "      <td>1</td>\n",
       "      <td>Permitted, Not Constructed</td>\n",
       "      <td>TRPA-ALLOC-1329</td>\n",
       "      <td>2021-0108617-00</td>\n",
       "      <td>The residential unit on the property shall be ...</td>\n",
       "      <td>Center</td>\n",
       "      <td>Tahoe Inn Caretaker Unit</td>\n",
       "      <td>2020-12-21</td>\n",
       "      <td>2021-09-14</td>\n",
       "      <td>2021-09-24</td>\n",
       "      <td>NaT</td>\n",
       "    </tr>\n",
       "    <tr>\n",
       "      <th>46</th>\n",
       "      <td>ERSP2018-0100-01</td>\n",
       "      <td>094-090-063</td>\n",
       "      <td>Moderate</td>\n",
       "      <td>8</td>\n",
       "      <td>Constructed</td>\n",
       "      <td>TRPA-ALLOC-682</td>\n",
       "      <td>2019-0029986-00</td>\n",
       "      <td>Recorded in Placer County, CA. Amended and res...</td>\n",
       "      <td>Local Jurisdiction Pool</td>\n",
       "      <td>Tahoe City Marina project. Multiple revisions</td>\n",
       "      <td>2018-08-31</td>\n",
       "      <td>2018-09-26</td>\n",
       "      <td>2018-10-09</td>\n",
       "      <td>2020-12-08</td>\n",
       "    </tr>\n",
       "    <tr>\n",
       "      <th>47</th>\n",
       "      <td>ERSP2023-1200</td>\n",
       "      <td>094-122-023</td>\n",
       "      <td>Achievable</td>\n",
       "      <td>1</td>\n",
       "      <td>Permitted, Not Constructed</td>\n",
       "      <td>TRPA-ALLOC-2347</td>\n",
       "      <td>NaN</td>\n",
       "      <td>NaN</td>\n",
       "      <td>Non-Center</td>\n",
       "      <td>NaN</td>\n",
       "      <td>2023-12-06</td>\n",
       "      <td>NaT</td>\n",
       "      <td>NaT</td>\n",
       "      <td>NaT</td>\n",
       "    </tr>\n",
       "    <tr>\n",
       "      <th>48</th>\n",
       "      <td>ERSP2021-1742</td>\n",
       "      <td>094-213-003</td>\n",
       "      <td>Achievable</td>\n",
       "      <td>1</td>\n",
       "      <td>Constructed</td>\n",
       "      <td>TRPA-ALLOC-1884</td>\n",
       "      <td>2022-0077968-00</td>\n",
       "      <td>APN 094-213-003 has received approval from TRP...</td>\n",
       "      <td>Non-Center</td>\n",
       "      <td>NaN</td>\n",
       "      <td>2022-03-21</td>\n",
       "      <td>2022-10-20</td>\n",
       "      <td>2022-10-20</td>\n",
       "      <td>2022-10-20</td>\n",
       "    </tr>\n",
       "    <tr>\n",
       "      <th>49</th>\n",
       "      <td>CEPP2014-0636</td>\n",
       "      <td>097-130-044</td>\n",
       "      <td>Affordable</td>\n",
       "      <td>12</td>\n",
       "      <td>Permitted, Not Constructed</td>\n",
       "      <td>TRPA-ALLOC-1270</td>\n",
       "      <td>NaN</td>\n",
       "      <td>NaN</td>\n",
       "      <td>Non-Center</td>\n",
       "      <td>Homewood; Multiple revisions</td>\n",
       "      <td>2014-11-16</td>\n",
       "      <td>2019-08-19</td>\n",
       "      <td>NaT</td>\n",
       "      <td>NaT</td>\n",
       "    </tr>\n",
       "    <tr>\n",
       "      <th>50</th>\n",
       "      <td>ERSP2020-1952</td>\n",
       "      <td>097-161-004</td>\n",
       "      <td>Achievable</td>\n",
       "      <td>1</td>\n",
       "      <td>Constructed</td>\n",
       "      <td>TRPA-ALLOC-1721</td>\n",
       "      <td>2021-0086970-00</td>\n",
       "      <td>APN 097-161-004 has received approval from TRP...</td>\n",
       "      <td>Non-Center</td>\n",
       "      <td>Reviewed at Placer, file TRP20-90156</td>\n",
       "      <td>2021-06-29</td>\n",
       "      <td>2021-07-20</td>\n",
       "      <td>2022-05-20</td>\n",
       "      <td>2022-09-02</td>\n",
       "    </tr>\n",
       "    <tr>\n",
       "      <th>51</th>\n",
       "      <td>ERSP2023-0701</td>\n",
       "      <td>098-191-018</td>\n",
       "      <td>Achievable</td>\n",
       "      <td>1</td>\n",
       "      <td>Permitted, Not Constructed</td>\n",
       "      <td>TRPA-ALLOC-2348</td>\n",
       "      <td>NaN</td>\n",
       "      <td>NaN</td>\n",
       "      <td>Non-Center</td>\n",
       "      <td>NaN</td>\n",
       "      <td>2024-01-25</td>\n",
       "      <td>NaT</td>\n",
       "      <td>NaT</td>\n",
       "      <td>NaT</td>\n",
       "    </tr>\n",
       "    <tr>\n",
       "      <th>52</th>\n",
       "      <td>ERSP2021-0366</td>\n",
       "      <td>111-100-028</td>\n",
       "      <td>Achievable</td>\n",
       "      <td>1</td>\n",
       "      <td>Permitted, Not Constructed</td>\n",
       "      <td>TRPA-ALLOC-1888</td>\n",
       "      <td>NaN</td>\n",
       "      <td>NaN</td>\n",
       "      <td>Non-Center</td>\n",
       "      <td>NaN</td>\n",
       "      <td>2022-07-08</td>\n",
       "      <td>NaT</td>\n",
       "      <td>NaT</td>\n",
       "      <td>NaT</td>\n",
       "    </tr>\n",
       "    <tr>\n",
       "      <th>53</th>\n",
       "      <td>ERSP2021-1944</td>\n",
       "      <td>116-050-020</td>\n",
       "      <td>Achievable</td>\n",
       "      <td>1</td>\n",
       "      <td>Permitted, Not Constructed</td>\n",
       "      <td>TRPA-ALLOC-1860</td>\n",
       "      <td>NaN</td>\n",
       "      <td>NaN</td>\n",
       "      <td>Non-Center</td>\n",
       "      <td>NaN</td>\n",
       "      <td>2022-02-13</td>\n",
       "      <td>2022-07-12</td>\n",
       "      <td>NaT</td>\n",
       "      <td>NaT</td>\n",
       "    </tr>\n",
       "    <tr>\n",
       "      <th>54</th>\n",
       "      <td>ERSP2020-1404-01</td>\n",
       "      <td>117-071-044</td>\n",
       "      <td>Achievable</td>\n",
       "      <td>4</td>\n",
       "      <td>Permitted, Not Constructed</td>\n",
       "      <td>TRPA-ALLOC-150</td>\n",
       "      <td>2022-0065123-00</td>\n",
       "      <td>APN 117-071-044 (now APN 117-071-054) received...</td>\n",
       "      <td>Local Jurisdiction Pool</td>\n",
       "      <td>Original file was ERSP2017-0273, then ERSP2020...</td>\n",
       "      <td>2022-02-14</td>\n",
       "      <td>2022-08-22</td>\n",
       "      <td>NaT</td>\n",
       "      <td>NaT</td>\n",
       "    </tr>\n",
       "    <tr>\n",
       "      <th>55</th>\n",
       "      <td>ERSP2022-2016</td>\n",
       "      <td>117-100-088</td>\n",
       "      <td>Achievable</td>\n",
       "      <td>1</td>\n",
       "      <td>Permitted, Not Constructed</td>\n",
       "      <td>TRPA-ALLOC-2144</td>\n",
       "      <td>2023-0018707-00</td>\n",
       "      <td>One residential unit on APN 117-100-088 shall ...</td>\n",
       "      <td>Non-Center</td>\n",
       "      <td>NaN</td>\n",
       "      <td>2023-05-05</td>\n",
       "      <td>NaT</td>\n",
       "      <td>NaT</td>\n",
       "      <td>NaT</td>\n",
       "    </tr>\n",
       "    <tr>\n",
       "      <th>56</th>\n",
       "      <td>CEPP2014-0138-01</td>\n",
       "      <td>123-052-02</td>\n",
       "      <td>Affordable</td>\n",
       "      <td>24</td>\n",
       "      <td>Permitted, Not Constructed</td>\n",
       "      <td>TRPA-ALLOC-1269</td>\n",
       "      <td>NaN</td>\n",
       "      <td>NaN</td>\n",
       "      <td>Non-Center</td>\n",
       "      <td>Boulder Bay; Multiple revisions</td>\n",
       "      <td>2023-04-26</td>\n",
       "      <td>NaT</td>\n",
       "      <td>NaT</td>\n",
       "      <td>NaT</td>\n",
       "    </tr>\n",
       "    <tr>\n",
       "      <th>57</th>\n",
       "      <td>ERSP2014-0375-03</td>\n",
       "      <td>1318-22-002-006</td>\n",
       "      <td>Moderate</td>\n",
       "      <td>5</td>\n",
       "      <td>Constructed</td>\n",
       "      <td>NaN</td>\n",
       "      <td>2019-930661</td>\n",
       "      <td>APN 1318-22-002-006 (149 Kahle Drive) contains...</td>\n",
       "      <td>OLD</td>\n",
       "      <td>Five of the Existing Nevada Royale Apartments ...</td>\n",
       "      <td>2018-08-09</td>\n",
       "      <td>2018-08-09</td>\n",
       "      <td>2018-08-09</td>\n",
       "      <td>2018-08-09</td>\n",
       "    </tr>\n",
       "    <tr>\n",
       "      <th>58</th>\n",
       "      <td>ERSP2014-0375-03</td>\n",
       "      <td>1318-22-002-007</td>\n",
       "      <td>Affordable</td>\n",
       "      <td>39</td>\n",
       "      <td>Constructed</td>\n",
       "      <td>NaN</td>\n",
       "      <td>2017-904849</td>\n",
       "      <td>Recorded in Douglas County, NV. APN 1318-22-00...</td>\n",
       "      <td>OLD</td>\n",
       "      <td>Existing Aspen Grove Apartments was deed-restr...</td>\n",
       "      <td>2018-08-09</td>\n",
       "      <td>2018-08-09</td>\n",
       "      <td>2018-08-09</td>\n",
       "      <td>2018-08-09</td>\n",
       "    </tr>\n",
       "    <tr>\n",
       "      <th>59</th>\n",
       "      <td>ERSP2014-0375-03</td>\n",
       "      <td>1318-22-002-042</td>\n",
       "      <td>Moderate</td>\n",
       "      <td>10</td>\n",
       "      <td>Constructed</td>\n",
       "      <td>NaN</td>\n",
       "      <td>2019-930661</td>\n",
       "      <td>APNs 1318-22-002-042 &amp; -043 (171 &amp; 173 Faris C...</td>\n",
       "      <td>OLD</td>\n",
       "      <td>Existing Faris Apartments was deed-restricted ...</td>\n",
       "      <td>2018-08-09</td>\n",
       "      <td>2018-08-09</td>\n",
       "      <td>2018-08-09</td>\n",
       "      <td>2018-08-09</td>\n",
       "    </tr>\n",
       "    <tr>\n",
       "      <th>60</th>\n",
       "      <td>19980865STD</td>\n",
       "      <td>1318-26-101-012</td>\n",
       "      <td>Affordable</td>\n",
       "      <td>64</td>\n",
       "      <td>Constructed</td>\n",
       "      <td>NaN</td>\n",
       "      <td>Document 0500102</td>\n",
       "      <td>The 64 residential units on the property are d...</td>\n",
       "      <td>OLD</td>\n",
       "      <td>Lake Vista I &amp; II</td>\n",
       "      <td>1999-06-23</td>\n",
       "      <td>2000-06-28</td>\n",
       "      <td>2000-09-12</td>\n",
       "      <td>2013-01-08</td>\n",
       "    </tr>\n",
       "    <tr>\n",
       "      <th>61</th>\n",
       "      <td>SUBD2023-1039</td>\n",
       "      <td>132-231-09</td>\n",
       "      <td>Achievable</td>\n",
       "      <td>4</td>\n",
       "      <td>Permitted, Not Constructed</td>\n",
       "      <td>TRPA-ALLOC-2356</td>\n",
       "      <td>NaN</td>\n",
       "      <td>NaN</td>\n",
       "      <td>Local Jurisdiction Pool</td>\n",
       "      <td>Nine 47 Tahoe</td>\n",
       "      <td>2023-12-22</td>\n",
       "      <td>NaT</td>\n",
       "      <td>NaT</td>\n",
       "      <td>NaT</td>\n",
       "    </tr>\n",
       "  </tbody>\n",
       "</table>\n",
       "</div>"
      ],
      "text/plain": [
       "         File_Number              APN Deed_Restriction_Type  Units                            Date_Type LTinfo_Transaction_ID LTInfo_Deed_Restriction                                            DR_Desc                   Center                                              Notes Issued Date Acknowledged Date Pre-Grade Date Finaled Date\n",
       "0      ERSP2022-1998      023-151-030            Achievable      1           Permitted, Not Constructed       TRPA-ALLOC-2329                     NaN                                                NaN               Non-Center                                                NaN  2023-10-09               NaT            NaT          NaT\n",
       "1        20021919STD      023-162-017            Affordable     18                          Constructed                   NaN     DOC-2005-0023565-00  The eighteen (18) residential units on this pr...                      OLD                             Sky Forest Apartments   2003-04-23        2005-04-14     2005-04-14   2005-04-14\n",
       "2      ERSP2020-2084      023-231-003            Achievable     70      Reserved, Application in review       TRPA-ALLOC-1333                     NaN                                                NaN                   Center              Crossings at the \"Y\" South Lake Tahoe         NaT               NaT            NaT          NaT\n",
       "3        19980083STD      023-393-031            Affordable     45                          Constructed                   NaN           98-0009502-00  45 units on property must be occupied by perso...                      OLD                                 Tahoe Senior Plaza  1998-04-27        1998-06-08     1998-06-11   1999-10-15\n",
       "4      CORR2012-0143      023-632-005            Affordable      1                          Constructed                   NaN     DOC-2011-0058156-00  City of South Lake Tahoe deed restriction rest...                      OLD                                     800 Taylor Way  2012-02-15        2012-03-22     2012-03-22   2012-03-22\n",
       "5      ERSP2022-2018      023-655-012            Achievable      1           Permitted, Not Constructed       TRPA-ALLOC-2119            2023-0008087  The accessory dwelling unit (ADU) on APN 023-6...               Non-Center                                                NaN  2023-04-19               NaT            NaT          NaT\n",
       "6      ERSP2022-1992      025-041-023            Affordable     19           Permitted, Not Constructed       TRPA-ALLOC-1871            2023-0013218  To partially satisfy TRPA's March 22, 2023, co...  Local Jurisdiction Pool                                         LTCC Dorms  2023-03-22        2023-05-17     2023-05-18          NaT\n",
       "7                NaN      025-041-023            Affordable     21  Reserved, Application not submitted       TRPA-ALLOC-1872                     NaN                                                NaN               Non-Center                                LTCC Dorms, Phase 2         NaT               NaT            NaT          NaT\n",
       "8      ERSP2022-1992      025-041-023            Affordable      1           Permitted, Not Constructed       TRPA-ALLOC-2274            2023-0013218  To partially satisfy TRPA's March 22, 2023, co...  Local Jurisdiction Pool                                                NaN  2023-03-22        2023-05-17     2023-05-18          NaT\n",
       "9       19911592STD       025-241-012            Affordable     28                          Constructed                   NaN             Doc# 014391  Deed restriction documenting a 28 unit afforda...                      OLD                             Tahoe Pines Apartments  1994-05-04        1994-05-12     1994-05-12   2012-08-16\n",
       "10     CORR2010-0553      025-393-025            Affordable      1                          Constructed                   NaN     DOC-2009-0047796-00  City of South Lake Tahoe deed restriction. One...                      OLD                                   226 Becka Drive.  2010-08-26        2010-09-30     2010-09-30   2010-09-30\n",
       "11     20061455STD        025-510-002            Affordable     32                          Constructed                   NaN     DOC-2008-0019379-00  32 of the units are senior (62 years in age or...                      OLD                             Kelly Ridge Apartments  2008-02-27        2008-05-21     2008-05-29   2013-09-04\n",
       "12     20061455STD        025-510-002              Moderate      1                          Constructed                   NaN     DOC-2008-0019379-00  32 of the units are senior (62 years in age or...                      OLD                             Kelly Ridge Apartments  2008-02-27        2008-05-21     2008-05-29   2013-09-04\n",
       "13          21030151      026-082-013              Moderate      1                          Constructed       TRPA-ALLOC-1259                     NaN                                                NaN               Non-Center                                                NaN  2022-02-14        2022-02-14     2022-02-14   2023-03-16\n",
       "14          21030150      026-082-014              Moderate      1                          Constructed       TRPA-ALLOC-1260                     NaN                                                NaN               Non-Center                                                NaN  2022-02-14        2022-02-14     2022-02-14   2023-03-02\n",
       "15          21040011      026-082-015              Moderate      1                          Constructed       TRPA-ALLOC-1261                     NaN                                                NaN               Non-Center                                                NaN  2022-02-14        2022-02-14     2022-02-14   2023-03-02\n",
       "16     ERSP2022-0257      026-094-026            Achievable      1                          Constructed       TRPA-ALLOC-1887            2022-0017686  One residential unit on APN 026-094-026 shall ...               Non-Center                                                NaN  2022-04-27        2022-04-27     2022-07-19   2022-07-19\n",
       "17     ERSP2022-1314      026-152-002            Affordable      1           Permitted, Not Constructed       TRPA-ALLOC-2345                     NaN                                                NaN               Non-Center                                                NaN  2022-09-22               NaT            NaT          NaT\n",
       "18     CORR2008-0313      026-262-010            Affordable      1                          Constructed                   NaN         2009-0041847-00  The legalized rental unit may only be utilized...                      OLD                                    961 Tulare Ave.  2010-09-21        2011-02-02     2011-02-02   2011-02-02\n",
       "19     ERSP2009-0479      027-323-019            Affordable     47                          Constructed                   NaN     DOC-2013-0011131-00  Deed restriction on property requiring that 55...                      OLD                                         The Aspens  2010-01-04        2013-04-02     2013-05-02   2014-09-29\n",
       "20     ERSP2009-0479      027-323-019              Moderate      1                          Constructed                   NaN     DOC-2013-0011131-00  Deed restriction on property requiring that 55...                      OLD                                         The Aspens  2010-01-04        2013-04-02     2013-05-02   2014-09-29\n",
       "21               NaN      027-323-019            Affordable      8  Reserved, Application not submitted                   NaN     DOC-2013-0011131-00  Deed restriction on property requiring that 55...                      OLD                                         The Aspens         NaT               NaT            NaT          NaT\n",
       "22       20041142MOU      031-094-024            Affordable      1                          Constructed                   NaN     DOC-2004-0056385-00  One unit on the property known as the \"downsta...                      OLD                                      1064 Marjorie  2004-07-07        2004-07-14     2004-07-14   2004-07-14\n",
       "23     ERSP2022-1407      031-172-011            Achievable      1           Permitted, Not Constructed       TRPA-ALLOC-2026            2022-0040687  One (1) residential unit on APN 031-172-011 sh...               Non-Center                                                NaN  2022-10-05               NaT            NaT          NaT\n",
       "24     ERSP2020-1763      031-290-012            Achievable     20           Permitted, Not Constructed       TRPA-ALLOC-1334                     NaN                                                NaN               Non-Center                                      Silver Dollar  2021-09-15               NaT            NaT          NaT\n",
       "25        MOU#18-334      032-201-017            Affordable      1                          Constructed        TRPA-ALLOC-847         2019-0012992-00  Declarants received approval to convert an exi...               Non-Center                                                NaN  2019-04-26        2019-04-26     2019-04-26   2019-04-26\n",
       "26       20040020STD      032-211-019            Affordable     26                          Constructed                   NaN            2005-0048498  twenty-six affordable residential units as aff...                      OLD                               Evergreen Apartments  2004-06-23        2005-06-21     2005-06-21   2006-07-20\n",
       "27          19120143      032-221-002              Moderate      2                          Constructed       TRPA-ALLOC-1328            2020-0065712  Two residential units on this property are per...               Non-Center                                                NaN  2020-09-07        2020-09-08     2020-09-08   2020-09-08\n",
       "28     ERSP2020-1999      032-291-028            Affordable    119           Permitted, Not Constructed       TRPA-ALLOC-1330                     NaN                                                NaN               Non-Center        Sugar Pine West, Phase 3 Multiple revisions  2021-01-27        2022-09-02            NaT          NaT\n",
       "29     ERSP2020-1999      032-291-028            Affordable     59           Permitted, Not Constructed       TRPA-ALLOC-1330            2023-0022310  Fifty-nine (59) residential units on APN 032-2...               Non-Center       Sugar Pine West, Phase 1; Multiple revisions  2021-01-27        2022-09-02     2022-09-07          NaT\n",
       "30     ERSP2020-1999      032-291-028            Affordable     30           Permitted, Not Constructed       TRPA-ALLOC-1331            2022-0035486  Thirty (30) residential units  on the Property...                   Center                           Sugar Pine West, Phase 2  2021-01-27        2022-09-02     2022-09-07          NaT\n",
       "31     ERSP2020-1998      032-291-031            Affordable     37           Permitted, Not Constructed       TRPA-ALLOC-1335            2022-0035487  Thirty-seven (37) residential units on APN 032...                   Center                                    Sugar Pine East  2021-01-27        2022-09-02     2022-09-09          NaT\n",
       "32     ERSP2023-1727      090-115-037            Affordable      1           Permitted, Not Constructed       TRPA-ALLOC-2357                     NaN                                                NaN               Non-Center                                                NaN  2024-02-28               NaT            NaT          NaT\n",
       "33     CEPP2008-0164      090-122-039            Affordable      5                          Constructed                   NaN         2010-0080866-00  Approval granted for construction of 5 residen...                      OLD                              Domus Housing Project  2009-09-09        2010-10-21     2010-09-10   2013-07-05\n",
       "34    CEPP2008-0163       090-126-026            Affordable     12                          Constructed                   NaN     DOC-2010-0080867-00  Deed restriction recorded for this property re...                      OLD                            Kings Beach Housing Now  2010-01-28        2010-09-07     2011-05-02   2012-11-19\n",
       "35     ERSP2022-1196      090-133-021            Achievable     74      Reserved, Application in review       TRPA-ALLOC-2279                     NaN                                                NaN                   Center                                   39 Degrees North         NaT               NaT            NaT          NaT\n",
       "36     ERSP2021-1873      090-142-001            Achievable      1      Reserved, Application in review       TRPA-ALLOC-2344                     NaN                                                NaN                   Center                                                NaN         NaT               NaT            NaT          NaT\n",
       "37     ERSP2009-0687      090-182-024            Affordable      2                          Constructed                   NaN    DOC- 2010-0080865-00  Not less than two (2) of the residential units...                      OLD                              Domus Housing Project  2009-07-27        2010-09-07     2011-05-02   2013-07-05\n",
       "38    CEPP2008-0161       090-222-050            Affordable     33                          Constructed                   NaN     DOC-2010-0080868-00  Deed restriction recorded for the parcel. At l...                      OLD                            Kings Beach Housing Now  2010-01-27        2010-10-26     2011-05-02   2014-07-30\n",
       "39     ERSP2023-1017      092-170-033            Achievable      1           Permitted, Not Constructed       TRPA-ALLOC-2372         2024-0009142-00  APN 092-170-033 has received approval from TRP...               Non-Center                                                NaN  2024-01-25        2024-02-24            NaT          NaT\n",
       "40     ERSP2021-0677      092-190-034            Achievable      1      Reserved, Application in review       TRPA-ALLOC-1722                     NaN                                                NaN               Non-Center                                                NaN         NaT               NaT            NaT          NaT\n",
       "41     ERSP2021-1484      093-130-026            Achievable     24      Reserved, Application in review       TRPA-ALLOC-2346                     NaN                                                NaN               Non-Center                        Alpine View at Dollar Point         NaT               NaT            NaT          NaT\n",
       "42     ERSP2023-0458      093-160-079            Achievable     60      Reserved, Application in review       TRPA-ALLOC-2280                     NaN                                                NaN               Non-Center                              Dollar Creek Crossing         NaT               NaT            NaT          NaT\n",
       "43     ERSP2023-0458      093-160-079            Affordable     80      Reserved, Application in review       TRPA-ALLOC-2326                     NaN                                                NaN               Non-Center                              Dollar Creek Crossing         NaT               NaT            NaT          NaT\n",
       "44    ERSP2023-0009       094-052-011            Achievable      1           Permitted, Not Constructed       TRPA-ALLOC-2328                     NaN                                                NaN               Non-Center                                                NaN  2023-10-27               NaT            NaT          NaT\n",
       "45     ERSP2019-1196      094-070-006            Achievable      1           Permitted, Not Constructed       TRPA-ALLOC-1329         2021-0108617-00  The residential unit on the property shall be ...                   Center                           Tahoe Inn Caretaker Unit  2020-12-21        2021-09-14     2021-09-24          NaT\n",
       "46  ERSP2018-0100-01      094-090-063              Moderate      8                          Constructed        TRPA-ALLOC-682         2019-0029986-00  Recorded in Placer County, CA. Amended and res...  Local Jurisdiction Pool      Tahoe City Marina project. Multiple revisions  2018-08-31        2018-09-26     2018-10-09   2020-12-08\n",
       "47     ERSP2023-1200      094-122-023            Achievable      1           Permitted, Not Constructed       TRPA-ALLOC-2347                     NaN                                                NaN               Non-Center                                                NaN  2023-12-06               NaT            NaT          NaT\n",
       "48     ERSP2021-1742      094-213-003            Achievable      1                          Constructed       TRPA-ALLOC-1884         2022-0077968-00  APN 094-213-003 has received approval from TRP...               Non-Center                                                NaN  2022-03-21        2022-10-20     2022-10-20   2022-10-20\n",
       "49     CEPP2014-0636      097-130-044            Affordable     12           Permitted, Not Constructed       TRPA-ALLOC-1270                     NaN                                                NaN               Non-Center                       Homewood; Multiple revisions  2014-11-16        2019-08-19            NaT          NaT\n",
       "50     ERSP2020-1952      097-161-004            Achievable      1                          Constructed       TRPA-ALLOC-1721         2021-0086970-00  APN 097-161-004 has received approval from TRP...               Non-Center               Reviewed at Placer, file TRP20-90156  2021-06-29        2021-07-20     2022-05-20   2022-09-02\n",
       "51     ERSP2023-0701      098-191-018            Achievable      1           Permitted, Not Constructed       TRPA-ALLOC-2348                     NaN                                                NaN               Non-Center                                                NaN  2024-01-25               NaT            NaT          NaT\n",
       "52     ERSP2021-0366      111-100-028            Achievable      1           Permitted, Not Constructed       TRPA-ALLOC-1888                     NaN                                                NaN               Non-Center                                                NaN  2022-07-08               NaT            NaT          NaT\n",
       "53     ERSP2021-1944      116-050-020            Achievable      1           Permitted, Not Constructed       TRPA-ALLOC-1860                     NaN                                                NaN               Non-Center                                                NaN  2022-02-13        2022-07-12            NaT          NaT\n",
       "54  ERSP2020-1404-01      117-071-044            Achievable      4           Permitted, Not Constructed        TRPA-ALLOC-150         2022-0065123-00  APN 117-071-044 (now APN 117-071-054) received...  Local Jurisdiction Pool  Original file was ERSP2017-0273, then ERSP2020...  2022-02-14        2022-08-22            NaT          NaT\n",
       "55     ERSP2022-2016      117-100-088            Achievable      1           Permitted, Not Constructed       TRPA-ALLOC-2144         2023-0018707-00  One residential unit on APN 117-100-088 shall ...               Non-Center                                                NaN  2023-05-05               NaT            NaT          NaT\n",
       "56  CEPP2014-0138-01       123-052-02            Affordable     24           Permitted, Not Constructed       TRPA-ALLOC-1269                     NaN                                                NaN               Non-Center                    Boulder Bay; Multiple revisions  2023-04-26               NaT            NaT          NaT\n",
       "57  ERSP2014-0375-03  1318-22-002-006              Moderate      5                          Constructed                   NaN             2019-930661  APN 1318-22-002-006 (149 Kahle Drive) contains...                      OLD  Five of the Existing Nevada Royale Apartments ...  2018-08-09        2018-08-09     2018-08-09   2018-08-09\n",
       "58  ERSP2014-0375-03  1318-22-002-007            Affordable     39                          Constructed                   NaN             2017-904849  Recorded in Douglas County, NV. APN 1318-22-00...                      OLD  Existing Aspen Grove Apartments was deed-restr...  2018-08-09        2018-08-09     2018-08-09   2018-08-09\n",
       "59  ERSP2014-0375-03  1318-22-002-042              Moderate     10                          Constructed                   NaN             2019-930661  APNs 1318-22-002-042 & -043 (171 & 173 Faris C...                      OLD  Existing Faris Apartments was deed-restricted ...  2018-08-09        2018-08-09     2018-08-09   2018-08-09\n",
       "60       19980865STD  1318-26-101-012            Affordable     64                          Constructed                   NaN        Document 0500102  The 64 residential units on the property are d...                      OLD                                  Lake Vista I & II  1999-06-23        2000-06-28     2000-09-12   2013-01-08\n",
       "61     SUBD2023-1039       132-231-09            Achievable      4           Permitted, Not Constructed       TRPA-ALLOC-2356                     NaN                                                NaN  Local Jurisdiction Pool                                      Nine 47 Tahoe  2023-12-22               NaT            NaT          NaT"
      ]
     },
     "execution_count": 82,
     "metadata": {},
     "output_type": "execute_result"
    }
   ],
   "source": [
    "dfDeedUnits"
   ]
  },
  {
   "cell_type": "code",
   "execution_count": null,
   "metadata": {},
   "outputs": [],
   "source": [
    "dfDeedUnits.Units.sum()"
   ]
  },
  {
   "cell_type": "code",
   "execution_count": null,
   "metadata": {},
   "outputs": [],
   "source": [
    "dfDeedLTinfo.info()"
   ]
  },
  {
   "cell_type": "code",
   "execution_count": null,
   "metadata": {},
   "outputs": [],
   "source": [
    "# get unique values for deed restrcition type\n",
    "dfDeedLTinfo.DeedRestrictionType.unique()\n",
    "\n",
    "# filter to Affordable, Achievable, and Moderate\n",
    "dfDeedLTinfo = dfDeedLTinfo[dfDeedLTinfo.DeedRestrictionType.isin(['Affordable Housing', 'Moderate Income Housing', 'Achievable Housing'])]  \n",
    "\n",
    "# count of total records\n",
    "dfDeedLTinfo.shape[0]"
   ]
  },
  {
   "cell_type": "code",
   "execution_count": null,
   "metadata": {},
   "outputs": [],
   "source": [
    "parcelUnits22.info()"
   ]
  },
  {
   "cell_type": "code",
   "execution_count": null,
   "metadata": {},
   "outputs": [],
   "source": [
    "dfDeedUnitsMerge = dfDeedUnits.merge(dfDeedLTinfo, on='APN', how='outer', indicator=True)"
   ]
  },
  {
   "cell_type": "code",
   "execution_count": null,
   "metadata": {},
   "outputs": [],
   "source": [
    "dfDeedUnitsMerge._merge.value_counts()"
   ]
  },
  {
   "cell_type": "code",
   "execution_count": null,
   "metadata": {},
   "outputs": [],
   "source": [
    "dfDeedLTinfo[dfDeedLTinfo.duplicated(subset=['APN','DeedRestrictionType'], keep=False)].sort_values('APN').to_csv(\"HousingDeedRestrictions_LTinfo_Duplicates.csv\")"
   ]
  },
  {
   "cell_type": "code",
   "execution_count": null,
   "metadata": {},
   "outputs": [],
   "source": [
    "# identify duplicates unique by APN and \n",
    "dfDeedUnits[dfDeedUnits.duplicated(subset=['APN', 'Deed_Restriction_Type','Units'], keep=False)]"
   ]
  },
  {
   "cell_type": "code",
   "execution_count": null,
   "metadata": {},
   "outputs": [],
   "source": [
    "# identify duplicates\n",
    "dfDeedUnitsMerge[dfDeedUnitsMerge.duplicated(subset=['APN'], keep=False)].sort_values(by='APN')"
   ]
  },
  {
   "cell_type": "code",
   "execution_count": null,
   "metadata": {},
   "outputs": [],
   "source": [
    "dfDeedUnitsMerge.to_csv(\"HousingDeedRestrictions_All.csv\")"
   ]
  },
  {
   "cell_type": "code",
   "execution_count": null,
   "metadata": {},
   "outputs": [],
   "source": [
    "# merge the deed restricted units with the parcel units\n",
    "dfDeedUnits_ParcelUnits  = dfDeedUnits.merge(parcelUnits22, on='APN', how='left')\n",
    "# merge the deed restricted units with the parcel units\n",
    "dfDeedLTinfo_ParcelUnits = dfDeedLTinfo.merge(parcelUnits22, left_on='APN', right_on='APN', how='left')\n"
   ]
  },
  {
   "cell_type": "code",
   "execution_count": null,
   "metadata": {},
   "outputs": [],
   "source": [
    "dfDeedLTinfo_ParcelUnits.info()"
   ]
  },
  {
   "cell_type": "code",
   "execution_count": null,
   "metadata": {},
   "outputs": [],
   "source": [
    "dfDeedLTinfo_ParcelUnits.Residential_Units.sum()"
   ]
  },
  {
   "cell_type": "markdown",
   "metadata": {},
   "source": [
    "#### ADU Tracking\n",
    "> ADU permit tracking from TRPA and othe Jurisdictions. There is a need to establish a system of record for this information (LT Info). This is similar to the Residential Bonus Unit data and there’s crossover on some of these, where a bonus unit was used to create an ADU, but you can have an ADU without requiring a bonus unit, and you can use a bonus unit without it being an ADU… "
   ]
  },
  {
   "cell_type": "markdown",
   "metadata": {},
   "source": [
    "***Get Data***"
   ]
  },
  {
   "cell_type": "code",
   "execution_count": null,
   "metadata": {},
   "outputs": [],
   "source": [
    "dfADU = read_excel(\"data\\ADU Tracking.xlsx\", 0)"
   ]
  },
  {
   "cell_type": "code",
   "execution_count": null,
   "metadata": {},
   "outputs": [],
   "source": [
    "dfADU"
   ]
  },
  {
   "cell_type": "markdown",
   "metadata": {},
   "source": [
    "#### Allocations\n",
    "> This file includes all of the allocations that have been tracked in LT Info, and adds in whether the subject parcel has been issued a BMP/SCC certificate and/or whether Air Quality/Mobility Mitigation fees (for added VMT) or Water Quality Mitigation fees (for added coverage) have been paid. "
   ]
  },
  {
   "cell_type": "code",
   "execution_count": null,
   "metadata": {},
   "outputs": [],
   "source": [
    "allocations = read_excel(\"data\\Allocation_Tracking.xlsx\", 0)"
   ]
  },
  {
   "cell_type": "markdown",
   "metadata": {},
   "source": [
    "#### Transactions with Inactive APNs"
   ]
  },
  {
   "cell_type": "code",
   "execution_count": null,
   "metadata": {},
   "outputs": [],
   "source": []
  },
  {
   "cell_type": "code",
   "execution_count": null,
   "metadata": {},
   "outputs": [],
   "source": [
    "inactiveParcels = read_file(\"data\\Transactions_InactiveParcels.csv\")"
   ]
  },
  {
   "cell_type": "markdown",
   "metadata": {},
   "source": [
    "## QA Process"
   ]
  },
  {
   "cell_type": "markdown",
   "metadata": {},
   "source": [
    "> Process to "
   ]
  },
  {
   "cell_type": "markdown",
   "metadata": {},
   "source": []
  }
 ],
 "metadata": {
  "kernelspec": {
   "display_name": "Python 3",
   "language": "python",
   "name": "python3"
  },
  "language_info": {
   "codemirror_mode": {
    "name": "ipython",
    "version": 3
   },
   "file_extension": ".py",
   "mimetype": "text/x-python",
   "name": "python",
   "nbconvert_exporter": "python",
   "pygments_lexer": "ipython3",
   "version": "3.9.18"
  }
 },
 "nbformat": 4,
 "nbformat_minor": 2
}
