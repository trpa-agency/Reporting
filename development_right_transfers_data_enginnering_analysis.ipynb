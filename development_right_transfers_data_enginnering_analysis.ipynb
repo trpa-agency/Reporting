{
 "cells": [
  {
   "cell_type": "markdown",
   "metadata": {},
   "source": [
    "# Development Right Transfers\n",
    "#### Meeting Agenda: Development Rights Transfer & Conversion Analysis\n",
    "\n",
    "1. Objectives & Data Review\n",
    "    * Goal: Standardize ETL of transfer → conversion process & confirm data integration\n",
    "    * Review analysis requirements\n",
    "    * Review of data sources:\n",
    "        * LT Info TDR Transactions (APN, type, land capability, quantity)\n",
    "        * Parcel Master (jurisdiction, town center proximity, local plan)\n",
    "        * Accela (transfer status, permit data)\n",
    "2. Coding Plan & Standardization\n",
    "    * Walkthrough of data integration approach\n",
    "    * Confirm transfer first, then convert process\n",
    "    * Address any inconsistencies or edge cases\n",
    "3. Key Analyses\n",
    "    * Land Capability: SEZ, sensitive, non-sensitive\n",
    "    * Distance from Center: Trends by proximity\n",
    "    * Interjurisdictional Activity: Transfers & conversions across boundaries\n",
    "4. Next Steps\n",
    "    * Assign action items & timeline for completion\n"
   ]
  },
  {
   "cell_type": "markdown",
   "metadata": {},
   "source": [
    "## Notes: From Ken\n",
    "- Transfer Reporting Status - comes from LTinfo\n",
    "    - Transfers come out of LTinfo \n",
    "- Status of Transaction - comes from Accela\n",
    "    - transaction is considered complete and development rights are moved to recieving parcel when the transfer is acknowledged\n",
    "- Status of the Development on the Recieving Parcel\n",
    "    - associate the transaction in LTinfo to the development project in Accela/Local Jurisdiction data\n",
    "    - what is the status of the development project? (i.e. when is it existing on the ground)\n",
    " \n",
    "- Transfer vs Conversion sequence\n",
    "    - should be transfer dev rights then convert on the recieving parcel \n",
    "- Parcel Geneology Lookup needs to be built\n",
    "    - Identify old APNs and current APNs\n",
    "- Data Clean-up\n",
    "    - categorization of unit types has evolved (e.g. PRUU vs RUU) same/same now\n",
    "- Conversions\n",
    "    - we track the transfers and then convert onto the recieving parcel (or onsite conversion)\n",
    "    - track conversion net change\n",
    "- "
   ]
  },
  {
   "cell_type": "markdown",
   "metadata": {},
   "source": [
    "## Setup"
   ]
  },
  {
   "cell_type": "markdown",
   "metadata": {},
   "source": [
    "### Packages"
   ]
  },
  {
   "cell_type": "code",
   "execution_count": null,
   "metadata": {},
   "outputs": [],
   "source": [
    "import pandas as pd\n",
    "import os\n",
    "import pathlib\n",
    "import arcpy\n",
    "from arcgis.features import FeatureLayer, GeoAccessor, GeoSeriesAccessor\n",
    "from utils import *\n",
    "from datetime import datetime\n",
    "from time import strftime  "
   ]
  },
  {
   "cell_type": "markdown",
   "metadata": {},
   "source": [
    "### Global Variables"
   ]
  },
  {
   "cell_type": "code",
   "execution_count": null,
   "metadata": {},
   "outputs": [],
   "source": [
    "# set data frame display options\n",
    "# pandas options\n",
    "pd.options.mode.copy_on_write = True\n",
    "pd.options.mode.chained_assignment = None\n",
    "pd.options.display.max_columns = 999\n",
    "pd.options.display.max_rows    = 999\n",
    "pd.options.display.float_format = '{:,.2f}'.format\n",
    "   \n",
    "# set environement workspace to in memory \n",
    "arcpy.env.workspace = 'memory'\n",
    "# overwrite true\n",
    "arcpy.env.overwriteOutput = True\n",
    "# Set spatial reference to NAD 1983 UTM Zone 10N\n",
    "sr = arcpy.SpatialReference(26910)\n",
    "arcpy.env.outputCoordinateSystem = sr\n",
    "\n",
    "# current working directory\n",
    "local_path = pathlib.Path().absolute()\n",
    "# set data path as a subfolder of the current working directory TravelDemandModel\\2022\\\n",
    "data_dir   = local_path.parents[0] / 'Reporting/data/raw_data'\n",
    "# folder to save processed data\n",
    "out_dir    = local_path.parents[0] / 'Reporting/data/processed_data'\n",
    "\n",
    "# network path to connection files\n",
    "filePath = \"F:/GIS/PARCELUPDATE/Workspace/\"\n",
    "# database file path \n",
    "sdeBase    = os.path.join(filePath, \"Vector.sde\")\n",
    "sdeCollect = os.path.join(filePath, \"Collection.sde\")\n",
    "sdeTabular = os.path.join(filePath, \"Tabular.sde\")\n",
    "sdeEdit    = os.path.join(filePath, \"Edit.sde\")"
   ]
  },
  {
   "cell_type": "markdown",
   "metadata": {},
   "source": [
    "## Data Processing\n",
    "### Data Pipeline Overview\n",
    "1. Extract data from LT Info, Parcel Master, and Accela.\n",
    "2. Clean and preprocess data for consistency.\n",
    "3. Merge datasets using APN as the primary key.\n",
    "4. Standardize workflow: **transfer first, then convert**.\n",
    "5. Identify and resolve inconsistencies."
   ]
  },
  {
   "cell_type": "markdown",
   "metadata": {},
   "source": [
    "### 1. Extract data from LT Info, Parcel Master, and Accela."
   ]
  },
  {
   "cell_type": "markdown",
   "metadata": {},
   "source": [
    "#### Data Sources\n",
    "- **LT Info TDR Transactions**: Tracks APN, development right type, land capability, and quantity.\n",
    "- **Parcel Master**: Provides jurisdiction, town center proximity, and\n",
    "- **Accela**: Contains transfer status and permit details."
   ]
  },
  {
   "cell_type": "markdown",
   "metadata": {},
   "source": [
    "> Sources\n",
    "* https://www.laketahoeinfo.org/WebServices/List\n",
    "* https://maps.trpa.org/server/rest/services/\n",
    "* https://parcels.laketahoeinfo.org/TdrTransaction/TransactionList\n",
    "* sdeBase, sdeCollect, sdeTabular"
   ]
  },
  {
   "cell_type": "markdown",
   "metadata": {},
   "source": [
    "#### 1.1 Parcel Master"
   ]
  },
  {
   "cell_type": "code",
   "execution_count": null,
   "metadata": {},
   "outputs": [],
   "source": [
    "# web service and database paths\n",
    "# portal_ParcelMaster = 'https://maps.trpa.org/server/rest/services/Parcel_Master/FeatureServer/0'\n",
    "sde_ParcelMaster    = Path(sdeBase) / \"sde.SDE.Parcels\\\\sde.SDE.Parcel_Master\"\n",
    "# get spatially enabled dataframes\n",
    "sdfParcels = pd.DataFrame.spatial.from_featureclass(sde_ParcelMaster)"
   ]
  },
  {
   "cell_type": "markdown",
   "metadata": {},
   "source": [
    "#### 1.2 LTInfo Data"
   ]
  },
  {
   "cell_type": "code",
   "execution_count": null,
   "metadata": {},
   "outputs": [],
   "source": [
    "# transfer grid downloaded from LTinfo https://parcels.laketahoeinfo.org/TdrTransaction/TransactionList\n",
    "# dfTransactionsGrid = pd.read_csv(local_path / \"data/raw_data/TransactedAndBankedDevelopmentRights.csv\")\n",
    "\n",
    "# grid path\n",
    "# dfTransactionsGrid = pd.read_excel(local_path / \"data/raw_data/TdrTransactions as of 02_06_2025 12_00 PM.xlsx\")\n",
    "dfTransfers   = pd.read_excel(data_dir / \"TdrTransactions as of 02_06_2025 12_00 PM.xlsx\", sheet_name='Transfers')\n",
    "dfConversions = pd.read_excel(data_dir / \"TdrTransactions as of 02_06_2025 12_00 PM.xlsx\", sheet_name='Conversions') \n",
    "dfConvTransfer = pd.read_excel(data_dir / \"TdrTransactions as of 02_06_2025 12_00 PM.xlsx\", sheet_name='Conversion with Transfers')"
   ]
  },
  {
   "cell_type": "code",
   "execution_count": null,
   "metadata": {},
   "outputs": [],
   "source": [
    "dfTransfers.info()"
   ]
  },
  {
   "cell_type": "code",
   "execution_count": null,
   "metadata": {},
   "outputs": [],
   "source": [
    "## LT Info Data\n",
    "# get banked\n",
    "dfDevRightBanked     = pd.read_json(\"https://www.laketahoeinfo.org/WebServices/GetBankedDevelopmentRights/JSON/e17aeb86-85e3-4260-83fd-a2b32501c476\")\n",
    "# Verified Development Rights from Accela as a DataFrame\n",
    "dfDevRightForAccela  = pd.read_json(\"https://www.laketahoeinfo.org/WebServices/GetParcelDevelopmentRightsForAccela/JSON/e17aeb86-85e3-4260-83fd-a2b32501c476\")\n",
    "# Development Rights Transacted and Banked as a DataFrame\n",
    "dfDevRightTransacted = pd.read_json(\"https://www.laketahoeinfo.org/WebServices/GetTransactedAndBankedDevelopmentRights/JSON/e17aeb86-85e3-4260-83fd-a2b32501c476\")\n",
    "# All Parcels as a DataFrame\n",
    "dfLTParcel           = pd.read_json(\"https://www.laketahoeinfo.org/WebServices/GetAllParcels/JSON/e17aeb86-85e3-4260-83fd-a2b32501c476\")"
   ]
  },
  {
   "cell_type": "code",
   "execution_count": null,
   "metadata": {},
   "outputs": [],
   "source": [
    "dfDevRightTransacted.info()"
   ]
  },
  {
   "cell_type": "markdown",
   "metadata": {},
   "source": [
    "#### 1.3 Accela Permit Data"
   ]
  },
  {
   "cell_type": "code",
   "execution_count": null,
   "metadata": {},
   "outputs": [],
   "source": [
    "# API access to download excel file of Accela Record Details\n",
    "accelaRecorDetails = \"https://laketahoeinfo.org/Api/GetAccelaRecordDetailsExcel/1A77D078-B83E-44E0-8CA5-8D7429E1A6B4\"\n",
    "# download the file\n",
    "dfAccelaRecord = pd.read_excel(accelaRecorDetails)"
   ]
  },
  {
   "cell_type": "code",
   "execution_count": null,
   "metadata": {},
   "outputs": [],
   "source": [
    "# get detailed project data report\n",
    "dfDetailedProjectData = pd.read_excel(data_dir / \"PermitStatusReport.xlsx\")\n",
    "dfDetailedProjectData.info()"
   ]
  },
  {
   "cell_type": "code",
   "execution_count": null,
   "metadata": {},
   "outputs": [],
   "source": []
  },
  {
   "cell_type": "code",
   "execution_count": null,
   "metadata": {},
   "outputs": [],
   "source": []
  },
  {
   "cell_type": "markdown",
   "metadata": {},
   "source": [
    "### 2. Clean and preprocess data for consistency."
   ]
  },
  {
   "cell_type": "code",
   "execution_count": null,
   "metadata": {},
   "outputs": [],
   "source": [
    "dfDetailedProjectData.CATEGORY.value_counts()"
   ]
  },
  {
   "cell_type": "code",
   "execution_count": null,
   "metadata": {},
   "outputs": [],
   "source": [
    "# get 2024 data\n",
    "dfPermit24 = dfAccelaRecord[dfAccelaRecord['File Date'].dt.year == 2024]\n"
   ]
  },
  {
   "cell_type": "code",
   "execution_count": null,
   "metadata": {},
   "outputs": [],
   "source": [
    "dfPermit24['Accela CAPType Name'].value_counts()"
   ]
  },
  {
   "cell_type": "code",
   "execution_count": null,
   "metadata": {},
   "outputs": [],
   "source": [
    "# get 2024 data for Building/ERS/Admin/Transfer Of Development\n",
    "dfPermit24_Transfers = dfPermit24[dfPermit24['Accela CAPType Name'] == 'Building/ERS/Admin/Transfer Of Development']\n",
    "dfPermit24_Transfers"
   ]
  },
  {
   "cell_type": "markdown",
   "metadata": {},
   "source": [
    "### 3. Merge datasets using APN as the primary key."
   ]
  },
  {
   "cell_type": "code",
   "execution_count": null,
   "metadata": {},
   "outputs": [],
   "source": [
    "dfTransfers.info()"
   ]
  },
  {
   "cell_type": "code",
   "execution_count": null,
   "metadata": {},
   "outputs": [],
   "source": [
    "dfDetailedProjectData.info()"
   ]
  },
  {
   "cell_type": "code",
   "execution_count": null,
   "metadata": {},
   "outputs": [],
   "source": [
    "# merge dfTransfers with dfDetailedProjectData\n",
    "dfTransfersMerge = pd.merge(dfTransfers, dfDetailedProjectData, left_on='Accela ID', right_on='File Number', how='left')\n"
   ]
  },
  {
   "cell_type": "code",
   "execution_count": null,
   "metadata": {},
   "outputs": [],
   "source": [
    "dfTransfersMerge.info()"
   ]
  },
  {
   "cell_type": "code",
   "execution_count": null,
   "metadata": {},
   "outputs": [],
   "source": [
    "# merge Sending APN to Parcel APN\n",
    "dfSendingTransfers   = pd.merge(dfTransfersMerge, sdfParcels, left_on='Sending Parcel APN', right_on='APN', how='left')\n",
    "\n",
    "# merge Receiving APN to Parcel APN\n",
    "dfRecievingTransfers = pd.merge(dfTransfersMerge, sdfParcels, left_on='Receiving Parcel APN', right_on='APN', how='left')"
   ]
  },
  {
   "cell_type": "code",
   "execution_count": null,
   "metadata": {},
   "outputs": [],
   "source": [
    "dfRecievingTransfers.APN.value_counts()"
   ]
  },
  {
   "cell_type": "markdown",
   "metadata": {},
   "source": [
    "### 4. Standardize workflow: **transfer first, then convert**."
   ]
  },
  {
   "cell_type": "code",
   "execution_count": null,
   "metadata": {},
   "outputs": [],
   "source": []
  },
  {
   "cell_type": "markdown",
   "metadata": {},
   "source": [
    "### 5. Identify and resolve inconsistencies."
   ]
  },
  {
   "cell_type": "code",
   "execution_count": null,
   "metadata": {},
   "outputs": [],
   "source": [
    "# APN changes over time\n",
    "\n",
    "# Development Right name changed (e.g. RDR changed to PRUU)\n",
    "\n",
    "# CTC and NDSL transactions will show up in the system later\n",
    "\n",
    "# can be multiple transactions for the same APN and it could be the same development type\n",
    "# transaction ID is unique so the many to many APN to transaction ID relationship can be used to join the data\n",
    "\n"
   ]
  },
  {
   "cell_type": "markdown",
   "metadata": {},
   "source": [
    "## Key Analyses & Insights\n",
    "\n",
    "### Land Capability Analysis\n",
    "- Categorize transfers by SEZ, sensitive, and non-sensitive land.\n",
    "### Proximity Analysis\n",
    "- Assess distance of transfers from town centers.\n",
    "### Interjurisdictional Transfers\n",
    "- Examine development right transfers across jurisdictional boundaries."
   ]
  },
  {
   "cell_type": "code",
   "execution_count": null,
   "metadata": {},
   "outputs": [],
   "source": []
  },
  {
   "cell_type": "code",
   "execution_count": null,
   "metadata": {},
   "outputs": [],
   "source": []
  },
  {
   "cell_type": "markdown",
   "metadata": {},
   "source": [
    "## Next Steps\n",
    "### Action Items\n",
    "- Build Accela Report that gets us issued data \n",
    "- Get Accela ID and Jurisdiction Permit Number into LTinfo Web Service Development Rights Transacted and Banked\n",
    "- Fix Parcel geneology for current 'APN', 'Recieving APN' and 'Sending APN' "
   ]
  },
  {
   "cell_type": "markdown",
   "metadata": {},
   "source": []
  }
 ],
 "metadata": {
  "kernelspec": {
   "display_name": "arcgispro-py3",
   "language": "python",
   "name": "python3"
  },
  "language_info": {
   "codemirror_mode": {
    "name": "ipython",
    "version": 3
   },
   "file_extension": ".py",
   "mimetype": "text/x-python",
   "name": "python",
   "nbconvert_exporter": "python",
   "pygments_lexer": "ipython3",
   "version": "3.11.10"
  }
 },
 "nbformat": 4,
 "nbformat_minor": 2
}
