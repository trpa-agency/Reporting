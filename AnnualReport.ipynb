{
 "cells": [
  {
   "cell_type": "markdown",
   "metadata": {},
   "source": [
    "## Annual Report Data Engineering and Analysis"
   ]
  },
  {
   "cell_type": "markdown",
   "metadata": {},
   "source": [
    "## Setup"
   ]
  },
  {
   "cell_type": "code",
   "execution_count": null,
   "metadata": {},
   "outputs": [],
   "source": [
    "#--------------------------------------------------------------------------------------------------------#\n",
    "# import packages and modules\n",
    "# base packages\n",
    "import os\n",
    "import sys\n",
    "import logging\n",
    "# from datetime import datetime\n",
    "import pandas as pd\n",
    "# external connection packages\n",
    "import requests\n",
    "# from boxsdk import Client, CCGAuth\n",
    "import sqlalchemy as sa\n",
    "from sqlalchemy.engine import URL\n",
    "from sqlalchemy import create_engine\n",
    "# ESRI packages\n",
    "import arcpy\n",
    "from arcgis.features import FeatureSet, GeoAccessor, GeoSeriesAccessor\n",
    "# email packages\n",
    "import smtplib\n",
    "from email.mime.multipart import MIMEMultipart\n",
    "from email.mime.text import MIMEText\n",
    "\n",
    "# set overwrite to true\n",
    "arcpy.env.overwriteOutput = True\n",
    "arcpy.env.workspace = \"C:\\GIS\\Scratch.gdb\"\n",
    "\n",
    "# in memory output file path\n",
    "wk_memory = \"memory\" + \"\\\\\"\n",
    "# set workspace and sde connections \n",
    "working_folder = \"C:\\GIS\"\n",
    "workspace      = \"C:\\GIS\\Scratch.gdb\"\n",
    "\n",
    "# network path to connection files\n",
    "filePath = \"C:\\\\GIS\\\\DB_CONNECT\"\n",
    "# database file path \n",
    "sdeBase = os.path.join(filePath, \"Vector.sde\")\n",
    "sdeCollect = os.path.join(filePath, \"Collection.sde\")\n",
    "# Feature dataset to unversion and register as version\n",
    "fdata = sdeCollect + \"\\\\sde_collection.SDE.Parcel\"\n",
    "# string to use in updaetSDE function\n",
    "sdeString  = fdata + \"\\\\sde_collection.SDE.\"\n",
    "# local path to stage csvs in\n",
    "accelaFiles = r\"F:/GIS/Acella/Reports\"\n",
    "\n",
    "# connect to bmp SQL dataabase\n",
    "connection_string = \"DRIVER={ODBC Driver 17 for SQL Server};SERVER=sql14;DATABASE=tahoebmpsde;UID=sde;PWD=staff\"\n",
    "connection_url = URL.create(\"mssql+pyodbc\", query={\"odbc_connect\": connection_string})\n",
    "engine = create_engine(connection_url)\n",
    "\n",
    "# # Box API credentialsn setup with CCGAuth\n",
    "# auth = CCGAuth(\n",
    "#   client_id     = \"pusxamhqx4urav2lj847darrr1niydzp\",\n",
    "#   client_secret = \"tmnxqxp8sSY6i24OPX2bAYFrnIA3cerZ\",\n",
    "#   user          = \"21689880902\"\n",
    "# )\n",
    "# # setup client for BOX connection\n",
    "# client = Client(auth)\n",
    "\n",
    "##--------------------------------------------------------------------------------------#\n",
    "## EMAIL and LOG FILE SETTINGS ##\n",
    "##--------------------------------------------------------------------------------------#\n",
    "## LOGGING SETUP\n",
    "# Configure the logging\n",
    "log_file_path = os.path.join(working_folder, \"Parcel_Tables_to_Features_Log.log\")  \n",
    "# setup basic logging configuration\n",
    "logging.basicConfig(level=logging.DEBUG,\n",
    "                    format='%(asctime)s - %(name)s - %(levelname)s - %(message)s',\n",
    "                    filename=log_file_path,  # Set the log file path\n",
    "                    filemode='w')\n",
    "# Create a logger\n",
    "logger = logging.getLogger(__name__)\n",
    "# Log start message\n",
    "# logger.info(\"Script Started: \" + str(datetime.datetime.now()) + \"\\n\")\n",
    "\n",
    "## EMAIL SETUP\n",
    "# path to text file\n",
    "fileToSend = log_file_path\n",
    "# email parameters\n",
    "subject = \"Parcel Tables to Parcel Features ETL\"\n",
    "sender_email = \"infosys@trpa.org\"\n",
    "# password = ''\n",
    "receiver_email = \"GIS@trpa.gov\"\n",
    "\n"
   ]
  },
  {
   "cell_type": "markdown",
   "metadata": {},
   "source": [
    "#### Reports to add to the Batch Engine\n",
    "* ReviewCompleteness_30Day_V1\n",
    "* DetailHistory_Reporting"
   ]
  },
  {
   "cell_type": "markdown",
   "metadata": {},
   "source": [
    "### Count of Permit by Category\n",
    "*  Get Accela Permits data summarized by count of Reporting Category \n",
    "\t - Delete TMP files\n",
    "\t - Establish Reporting Category\n",
    "\t\t- Summary of Record Types\n",
    "\t\t\t- Get lookup list for Reporting Category by Recor Type\n",
    "\t\t\t\n",
    "\t\t- Filter out Plan Revision\n",
    "\t\t\t- A second lookup of the ID without -01 at the end and lookup list against the other File Number Record Type\n",
    "\t\t\t\n",
    "\t- Count of Files by Reporting Category\n",
    "\t\t- Just for current year\n"
   ]
  },
  {
   "cell_type": "code",
   "execution_count": null,
   "metadata": {},
   "outputs": [],
   "source": [
    "df = pd.read_csv()"
   ]
  },
  {
   "cell_type": "markdown",
   "metadata": {},
   "source": [
    "### Tree Permits \n",
    "* setup Tree Permit Activity report in Batch Engine workflow\n",
    "    - filter by year\n",
    "    - merge with the main Accela permit csv by File Number\n",
    "    - Tree Total\n",
    "    - CHECKED in a column is the reason the tree was removed \n",
    "    - Tree Total is the count of trees that are approved to be removed\n",
    "    - Application is APPROVED\n",
    "- How many trees removed apps by year\n",
    "- Total trees approved by permit\n",
    "- Get Tree Total by Reason\n",
    "- just for current year\n",
    "- what % of applications have x reason CHECKED\n",
    "- Created By BBARR are the Fire Districts creating a permit on our behalf\n",
    "    - to look at the ones we've processed filter out the BBARR ones\n",
    "        - we just want to report on TRPA actions not the Fire district issued permits"
   ]
  },
  {
   "cell_type": "code",
   "execution_count": null,
   "metadata": {},
   "outputs": [],
   "source": [
    "parcelHistory = \n",
    "parcelMaster =\n",
    "\n",
    "OldAPN = \n",
    "CurrentAPN = "
   ]
  },
  {
   "cell_type": "markdown",
   "metadata": {},
   "source": [
    "### Banked Development Rights Analysis"
   ]
  },
  {
   "cell_type": "markdown",
   "metadata": {},
   "source": [
    "* All Banked development rights by type, land capability, location and jurisdiction\n",
    "* Current Banked development rights by type, land capability, location and jurisdiction\n",
    "    * group by High Capability, Low Capability, and SEZ\n",
    "    * By location to town center\n",
    "    * banked before and after 12/12/12\n",
    "\n",
    "* Remove things that have been banked in the past year from Existing Development on the ground (TAU, RES, CFA)\n",
    "- quanity that was removed should be subtracted from existing development\n",
    "- newly built allocations (comes from transacted data in LTinfo) \n",
    "    - this falls apart when we dont have current data from the jurisdictions on allocated development\n",
    "- opportunity to get data from GIS service....\n",
    "\n",
    "## IPES Score of 0 = SEZ, IPES 1-725 = Low Capability, and IPES>726 = High Capability"
   ]
  },
  {
   "cell_type": "markdown",
   "metadata": {},
   "source": [
    "#### \"F:\\Research and Analysis\\Reporting\\Annual Reports\\2022 Annual Report\\2022 Annual Report Data\\2022 Transfer Analysis.xlsx\""
   ]
  },
  {
   "cell_type": "code",
   "execution_count": null,
   "metadata": {},
   "outputs": [],
   "source": []
  },
  {
   "cell_type": "code",
   "execution_count": null,
   "metadata": {},
   "outputs": [],
   "source": [
    "dfDRTrans  = pd.read_json(\"https://laketahoeinfo.org/WebServices/GetTransactedAndBankedDevelopmentRights/JSON/e17aeb86-85e3-4260-83fd-a2b32501c476\")\n",
    "dfDRTrans.RecordType.unique()"
   ]
  },
  {
   "cell_type": "code",
   "execution_count": null,
   "metadata": {},
   "outputs": [],
   "source": [
    "dfDRTrans.RecordType.unique()"
   ]
  },
  {
   "cell_type": "code",
   "execution_count": null,
   "metadata": {},
   "outputs": [],
   "source": [
    "dfDRBank   = pd.read_json(\"https://laketahoeinfo.org/WebServices/GetBankedDevelopmentRights/JSON/e17aeb86-85e3-4260-83fd-a2b32501c476\")\n",
    "dfDRBank"
   ]
  },
  {
   "cell_type": "code",
   "execution_count": null,
   "metadata": {},
   "outputs": [],
   "source": [
    "dfDRBank.DevelopmentRight.unique()"
   ]
  },
  {
   "cell_type": "code",
   "execution_count": null,
   "metadata": {},
   "outputs": [],
   "source": []
  },
  {
   "cell_type": "markdown",
   "metadata": {},
   "source": [
    "## Get Permit Data"
   ]
  },
  {
   "cell_type": "code",
   "execution_count": null,
   "metadata": {},
   "outputs": [],
   "source": [
    "from pathlib import Path\n",
    "\n",
    "import pandas as pd\n",
    "from arcgis.gis import GIS\n",
    "from arcgis.features import FeatureLayer\n",
    "\n",
    "# Gets data from the TRPA server\n",
    "def get_fs_data(service_url):\n",
    "    feature_layer = FeatureLayer(service_url)\n",
    "    query_result = feature_layer.query()\n",
    "    # Convert the query result to a list of dictionaries\n",
    "    feature_list = query_result.features\n",
    "    # Create a pandas DataFrame from the list of dictionaries\n",
    "    all_data = pd.DataFrame([feature.attributes for feature in feature_list])\n",
    "    # return data frame\n",
    "    return all_data\n",
    "\n",
    "\n",
    "def get_spatial_dataframe(service_url):\n",
    "    # Connect to the GIS\n",
    "    gis = GIS()\n",
    "\n",
    "    # Create a FeatureLayer object from the REST service URL\n",
    "    feature_layer = FeatureLayer(service_url)\n",
    "\n",
    "    # Create a Spatially Enabled DataFrame from the Feature Layer\n",
    "    spatial_df = pd.DataFrame.spatial.from_layer(feature_layer)\n",
    "\n",
    "    return spatial_df"
   ]
  },
  {
   "cell_type": "code",
   "execution_count": null,
   "metadata": {},
   "outputs": [],
   "source": [
    "tbl = \"https://maps.trpa.org/server/rest/services/Permit_Records/MapServer/1\"\n",
    "dfPermit = get_fs_data(tbl)\n",
    "\n",
    "rest_service_url = \"https://maps.trpa.org/server/rest/services/Parcels/FeatureServer/0\"\n",
    "sdfParcel = get_spatial_dataframe(rest_service_url)\n",
    "\n"
   ]
  },
  {
   "cell_type": "code",
   "execution_count": null,
   "metadata": {},
   "outputs": [],
   "source": [
    "dfPermit.Accela_CAPType_Name.unique()"
   ]
  },
  {
   "cell_type": "code",
   "execution_count": null,
   "metadata": {},
   "outputs": [],
   "source": [
    "# get permti dataframe\n",
    "\n",
    "# get parcel points data\n",
    "\n",
    "# left join\n",
    "\n",
    "# create output of stacked points\n",
    "\n",
    "# publish permits by points\n",
    "\n",
    "# dot density "
   ]
  }
 ],
 "metadata": {
  "kernelspec": {
   "display_name": "Python 3",
   "language": "python",
   "name": "python3"
  },
  "language_info": {
   "codemirror_mode": {
    "name": "ipython",
    "version": 3
   },
   "file_extension": ".py",
   "mimetype": "text/x-python",
   "name": "python",
   "nbconvert_exporter": "python",
   "pygments_lexer": "ipython3",
   "version": "3.9.18"
  }
 },
 "nbformat": 4,
 "nbformat_minor": 2
}
