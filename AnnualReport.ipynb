{
 "cells": [
  {
   "cell_type": "markdown",
   "metadata": {},
   "source": [
    "## Annual Report Data Engineering and Analysis"
   ]
  },
  {
   "cell_type": "markdown",
   "metadata": {},
   "source": [
    "## Setup"
   ]
  },
  {
   "cell_type": "markdown",
   "metadata": {},
   "source": [
    "#### Reports to add to the Batch Engine\n",
    "* ReviewCompleteness_30Day_V1\n",
    "* DetailHistory_Reporting"
   ]
  },
  {
   "cell_type": "markdown",
   "metadata": {},
   "source": [
    "### Count of Permit by Category\n",
    "*  Get Accela Permits data summarized by count of Reporting Category \n",
    "\t - Delete TMP files\n",
    "\t - Establish Reporting Category\n",
    "\t\t- Summary of Record Types\n",
    "\t\t\t- Get lookup list for Reporting Category by Recor Type\n",
    "\t\t\t\n",
    "\t\t- Filter out Plan Revision\n",
    "\t\t\t- A second lookup of the ID without -01 at the end and lookup list against the other File Number Record Type\n",
    "\t\t\t\n",
    "\t- Count of Files by Reporting Category\n",
    "\t\t- Just for current year\n"
   ]
  },
  {
   "cell_type": "markdown",
   "metadata": {},
   "source": [
    "### Tree Permits \n",
    "* setup Tree Permit Activity report in Batch Engine workflow\n",
    "    - filter by year\n",
    "    - merge with the main Accela permit csv by File Number\n",
    "    - Tree Total\n",
    "    - CHECKED in a column is the reason the tree was removed \n",
    "    - Tree Total is the count of trees that are approved to be removed\n",
    "    - Application is APPROVED\n",
    "- How many trees removed apps by year\n",
    "- Total trees approved by permit\n",
    "- Get Tree Total by Reason\n",
    "- just for current year\n",
    "- what % of applications have x reason CHECKED\n",
    "- Created By BBARR are the Fire Districts creating a permit on our behalf\n",
    "    - to look at the ones we've processed filter out the BBARR ones\n",
    "        - we just want to report on TRPA actions not the Fire district issued permits"
   ]
  },
  {
   "cell_type": "markdown",
   "metadata": {},
   "source": [
    "### Banked Development Rights Analysis"
   ]
  },
  {
   "cell_type": "markdown",
   "metadata": {},
   "source": [
    "* All Banked development rights by type, land capability, location and jurisdiction\n",
    "* Current Banked development rights by type, land capability, location and jurisdiction\n",
    "    * group by High Capability, Low Capability, and SEZ\n",
    "    * By location to town center\n",
    "    * banked before and after 12/12/12\n",
    "\n",
    "* Remove things that have been banked in the past year from Existing Development on the ground (TAU, RES, CFA)\n",
    "- quanity that was removed should be subtracted from existing development\n",
    "- newly built allocations (comes from transacted data in LTinfo) \n",
    "    - this falls apart when we dont have current data from the jurisdictions on allocated development\n",
    "- opportunity to get data from GIS service....\n",
    "\n",
    "- IPES Score of 0 = SEZ, IPES 1-725 = Low Capability, and IPES>726 = High Capability"
   ]
  },
  {
   "cell_type": "markdown",
   "metadata": {},
   "source": [
    "#### \"F:\\Research and Analysis\\Reporting\\Annual Reports\\2022 Annual Report\\2022 Annual Report Data\\2022 Transfer Analysis.xlsx\""
   ]
  },
  {
   "cell_type": "markdown",
   "metadata": {},
   "source": [
    "## Allocation Data"
   ]
  },
  {
   "cell_type": "code",
   "execution_count": null,
   "metadata": {},
   "outputs": [],
   "source": [
    "from utils import read_excel\n",
    "# get allocation data\n",
    "dfAllocation = read_excel(\"data\\Allocation_Tracking.xlsx\", 0)\n",
    "dfAllocation"
   ]
  },
  {
   "cell_type": "markdown",
   "metadata": {},
   "source": [
    "## Permit Data"
   ]
  },
  {
   "cell_type": "code",
   "execution_count": null,
   "metadata": {},
   "outputs": [],
   "source": [
    "from utils import read_file, get_fs_data\n",
    "dfPlacerPermit = read_file(\"data\\PermitData_Placer_040124.csv\")\n",
    "dfCSLTPermit   = read_file(\"data\\PermitData_CSLT_040224.csv\")\n",
    "dfElDoPermit   = read_file(\"data\\PermitData_ElDorado_040124.csv\")\n",
    "# trpa permit table\n",
    "permitTable = \"https://maps.trpa.org/server/rest/services/Permit_Records/MapServer/1\"\n",
    "dfTRPAPermit = get_fs_data(permitTable)\n"
   ]
  },
  {
   "cell_type": "markdown",
   "metadata": {},
   "source": []
  },
  {
   "cell_type": "code",
   "execution_count": null,
   "metadata": {},
   "outputs": [],
   "source": [
    "dfTRPAPermit\n"
   ]
  },
  {
   "cell_type": "code",
   "execution_count": null,
   "metadata": {},
   "outputs": [],
   "source": [
    "dfPlacerPermit"
   ]
  },
  {
   "cell_type": "code",
   "execution_count": null,
   "metadata": {},
   "outputs": [],
   "source": [
    "dfElDoPermit\n"
   ]
  },
  {
   "cell_type": "code",
   "execution_count": null,
   "metadata": {},
   "outputs": [],
   "source": [
    "dfCSLTPermit"
   ]
  },
  {
   "cell_type": "code",
   "execution_count": null,
   "metadata": {},
   "outputs": [],
   "source": [
    "dfCSLTPermit.info()"
   ]
  }
 ],
 "metadata": {
  "kernelspec": {
   "display_name": "Python 3",
   "language": "python",
   "name": "python3"
  },
  "language_info": {
   "codemirror_mode": {
    "name": "ipython",
    "version": 3
   },
   "file_extension": ".py",
   "mimetype": "text/x-python",
   "name": "python",
   "nbconvert_exporter": "python",
   "pygments_lexer": "ipython3",
   "version": "3.9.18"
  }
 },
 "nbformat": 4,
 "nbformat_minor": 2
}
